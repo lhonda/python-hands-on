{
 "cells": [
  {
   "cell_type": "markdown",
   "metadata": {},
   "source": [
    "# Python hands-on\n",
    "\n",
    "## Introdução\n",
    "\n",
    "O objetivo deste hands-on é aprender sobre Python na prática usando o ipython.\n",
    "Antes que vir p/ a talk, configure o ambiente conforme as instruções abaixo.\n",
    "O procedimento se resume em copiar o conteúdo das células no ipython e analisar o resultado. \n",
    "\n",
    "## Ambiente\n",
    "\n",
    "O nosso ambiente precisa dos seguintes pacotes:\n",
    "\n",
    "1. pyenv\n",
    "2. virtualenvwrapper\n",
    "3. autoenv\n",
    "4. ipython\n",
    "\n",
    "### Configurar o ambiente:\n",
    "\n",
    "1. Instalar o [pyenv](https://github.com/pyenv/pyenv#basic-github-checkout)\n"
   ]
  },
  {
   "cell_type": "markdown",
   "metadata": {},
   "source": [
    "`git clone https://github.com/pyenv/pyenv.git ~/.pyenv\n",
    "echo 'export PYENV_ROOT=\"$HOME/.pyenv\"' >> ~/.bash_profile\n",
    "echo 'export PATH=\"$PYENV_ROOT/bin:$PATH\"' >> ~/.bash_profile\n",
    "echo -e 'if command -v pyenv 1>/dev/null 2>&1; then\\n  eval \"$(pyenv init -)\"\\nfi' >> ~/.bash_profile`"
   ]
  },
  {
   "cell_type": "markdown",
   "metadata": {},
   "source": [
    "Crie um novo terminal e verifique se a variável PYENV_ROOT está exportada."
   ]
  },
  {
   "cell_type": "markdown",
   "metadata": {},
   "source": [
    "2. Usar o pyenv e instalar a versão 3.6.5.\n"
   ]
  },
  {
   "cell_type": "markdown",
   "metadata": {},
   "source": [
    "`pyenv install 3.6.5`"
   ]
  },
  {
   "cell_type": "markdown",
   "metadata": {},
   "source": [
    "3. Instalar o autoenv e virtualenvwrapper\n"
   ]
  },
  {
   "cell_type": "markdown",
   "metadata": {},
   "source": [
    "pip install autoenv virtualenvwrapper -U"
   ]
  },
  {
   "cell_type": "markdown",
   "metadata": {},
   "source": [
    "Após a instalação do pyenv, autoenv e virtualenvwrapper abra um terminal novo pois as ferramentas são inicializadas usando os .bash* (.bashrc, .bash_profile).\n",
    "\n",
    "`exec \"$SHELL\"`"
   ]
  },
  {
   "cell_type": "markdown",
   "metadata": {},
   "source": [
    "4. criar um virtualenv com nome hands_on"
   ]
  },
  {
   "cell_type": "markdown",
   "metadata": {},
   "source": [
    "`mkvirtualenv hands_on`\n"
   ]
  },
  {
   "cell_type": "markdown",
   "metadata": {},
   "source": [
    "5. instalar o ipython"
   ]
  },
  {
   "cell_type": "markdown",
   "metadata": {},
   "source": [
    "`pip install ipython`"
   ]
  },
  {
   "cell_type": "markdown",
   "metadata": {},
   "source": [
    "## O interpretador\n",
    "\n",
    "Execute o interpretador digitando:"
   ]
  },
  {
   "cell_type": "markdown",
   "metadata": {},
   "source": [
    "`python`"
   ]
  },
  {
   "cell_type": "markdown",
   "metadata": {},
   "source": [
    "Você pode executar várias tarefas no interpretador tais como fazer contas, importar módulos, definir uma função.\n",
    "\n",
    "Saia do interpretador com `ctrl-d` ou execute `import sys;sys.exit()`"
   ]
  },
  {
   "cell_type": "markdown",
   "metadata": {},
   "source": [
    "Para o tutorial vamos utilizar o ipython pois ele tem mais recursos."
   ]
  },
  {
   "cell_type": "markdown",
   "metadata": {},
   "source": [
    "`ipython`"
   ]
  },
  {
   "cell_type": "markdown",
   "metadata": {},
   "source": [
    "## Exemplos de comentários\n"
   ]
  },
  {
   "cell_type": "code",
   "execution_count": 8,
   "metadata": {},
   "outputs": [
    {
     "name": "stdout",
     "output_type": "stream",
     "text": [
      "comentário\n",
      "comentário\n",
      "comentário\n",
      "\n"
     ]
    }
   ],
   "source": [
    "# comentário\n",
    "print('''comentário''')\n",
    "print(\"\"\"comentário\"\"\")\n",
    "print(\"\"\"comentário\n",
    "\"\"\")"
   ]
  },
  {
   "cell_type": "markdown",
   "metadata": {},
   "source": [
    "## Tipos de dados\n",
    "\n",
    "No ipython digite:\n"
   ]
  },
  {
   "cell_type": "code",
   "execution_count": 9,
   "metadata": {},
   "outputs": [
    {
     "name": "stdout",
     "output_type": "stream",
     "text": [
      "False\n"
     ]
    }
   ],
   "source": [
    "# booleanos\n",
    "spam = True\n",
    "eggs = False\n",
    "\n",
    "print(eggs)"
   ]
  },
  {
   "cell_type": "code",
   "execution_count": 10,
   "metadata": {},
   "outputs": [
    {
     "name": "stdout",
     "output_type": "stream",
     "text": [
      "True\n",
      "True\n",
      "True\n",
      "True\n",
      "True\n"
     ]
    }
   ],
   "source": [
    "# Nulos\n",
    "ham = None\n",
    "print(not None)\n",
    "print(not [])\n",
    "print(not 0)\n",
    "print(not '')\n",
    "print(not False)"
   ]
  },
  {
   "cell_type": "code",
   "execution_count": 11,
   "metadata": {},
   "outputs": [
    {
     "name": "stdout",
     "output_type": "stream",
     "text": [
      "2 1\n"
     ]
    }
   ],
   "source": [
    "# Operações com números\n",
    "2 + 3\n",
    "5 / 3\n",
    "5 // 3\n",
    "5 * 2\n",
    "5**2\n",
    "5**2 == 5 * 5\n",
    "a, b = 1,2\n",
    "a, b = b, a\n",
    "print(a, b)"
   ]
  },
  {
   "cell_type": "code",
   "execution_count": 12,
   "metadata": {},
   "outputs": [],
   "source": [
    "# strings\n",
    "spam = 'eggs'\n",
    "spam = \"eggs\"\n",
    "spam = 'spam isn\\'t eggs'\n",
    "spam = \"\"\"spam isn't eggs\"\"\"\n",
    "spam = '''spam isn't eggs'''"
   ]
  },
  {
   "cell_type": "code",
   "execution_count": 13,
   "metadata": {},
   "outputs": [
    {
     "data": {
      "text/plain": [
       "(1+2j)"
      ]
     },
     "execution_count": 13,
     "metadata": {},
     "output_type": "execute_result"
    }
   ],
   "source": [
    "#números complexos\n",
    "a=5+3j + 1 -1j\n",
    "a.imag\n",
    "a.real\n",
    "a = complex(5,1)\n",
    "a.imag\n",
    "a.real\n",
    "complex('1+2j')"
   ]
  },
  {
   "cell_type": "code",
   "execution_count": 14,
   "metadata": {},
   "outputs": [
    {
     "ename": "ValueError",
     "evalue": "complex() arg is a malformed string",
     "output_type": "error",
     "traceback": [
      "\u001b[0;31m---------------------------------------------------------------------------\u001b[0m",
      "\u001b[0;31mValueError\u001b[0m                                Traceback (most recent call last)",
      "\u001b[0;32m<ipython-input-14-0353ee135738>\u001b[0m in \u001b[0;36m<module>\u001b[0;34m()\u001b[0m\n\u001b[0;32m----> 1\u001b[0;31m \u001b[0mcomplex\u001b[0m\u001b[0;34m(\u001b[0m\u001b[0;34m'1+ 2j'\u001b[0m\u001b[0;34m)\u001b[0m\u001b[0;34m\u001b[0m\u001b[0m\n\u001b[0m",
      "\u001b[0;31mValueError\u001b[0m: complex() arg is a malformed string"
     ]
    }
   ],
   "source": [
    "complex('1+ 2j')"
   ]
  },
  {
   "cell_type": "code",
   "execution_count": null,
   "metadata": {},
   "outputs": [],
   "source": [
    "# exemplos de print\n",
    "print('Spam' * 5)\n",
    "print(spam * 5)\n",
    "print(1, 2, 3, sep='-')"
   ]
  },
  {
   "cell_type": "code",
   "execution_count": null,
   "metadata": {},
   "outputs": [],
   "source": [
    "%quickref\n",
    "%alias l ls -latr\n",
    "%save spam.py 1-13"
   ]
  },
  {
   "cell_type": "code",
   "execution_count": null,
   "metadata": {},
   "outputs": [],
   "source": [
    "print(spam[0])\n",
    "spam[:4]\n",
    "spams = spam.split()\n",
    "type(spams)\n",
    "spams[2]\n",
    "spams[1:]\n",
    "spams[-1]\n",
    "type(spam)\n",
    "len(spam)"
   ]
  },
  {
   "cell_type": "code",
   "execution_count": null,
   "metadata": {},
   "outputs": [],
   "source": [
    "spam[0] = 'eggs'  # string is immutable"
   ]
  },
  {
   "cell_type": "markdown",
   "metadata": {},
   "source": [
    "## Números binários"
   ]
  },
  {
   "cell_type": "code",
   "execution_count": null,
   "metadata": {},
   "outputs": [],
   "source": [
    "bin(0)\n",
    "bin(2)\n",
    "bin(3)\n",
    "bin(7)"
   ]
  },
  {
   "cell_type": "markdown",
   "metadata": {},
   "source": [
    "## Listas"
   ]
  },
  {
   "cell_type": "code",
   "execution_count": null,
   "metadata": {},
   "outputs": [],
   "source": [
    "spams = ['spam', 'ham', 'eggs']\n",
    "spam = list(range(10))\n",
    "spam = list(range(0,10))\n",
    "spam = list(range(0,30,2))\n",
    "spam[0] = 'ham' # list is mutable\n",
    "spam.append('eggs')\n",
    "print(len(spam))\n",
    "print(spam[1:])\n",
    "print(spam[:2])\n",
    "print(spam[2:6])\n",
    "spammit = spam[:]\n",
    "print(spammit)"
   ]
  },
  {
   "cell_type": "markdown",
   "metadata": {},
   "source": [
    "### Métodos de listas"
   ]
  },
  {
   "cell_type": "code",
   "execution_count": null,
   "metadata": {},
   "outputs": [],
   "source": [
    "spams = ['spam', 'ham', 'eggs']\n",
    "spams.append('spam')\n",
    "spams.extend(['spam', 'eggs', 'spam','spam'])\n",
    "spams.insert(0,'spam')\n",
    "spams.remove('spam')\n",
    "spams.pop()\n",
    "spams\n",
    "spams.pop(1)\n",
    "spams\n",
    "spams.index('spam')\n",
    "spams.count('spam')\n",
    "spams.sort()\n",
    "sorted(spams)\n",
    "sorted(spams, reverse=True)\n",
    "spams.sort(reverse=True)\n",
    "spams.reverse()\n",
    "spams_copy = spams.copy()\n",
    "spams.clear()"
   ]
  },
  {
   "cell_type": "markdown",
   "metadata": {},
   "source": [
    "## Controles de fluxo:\n",
    "\n",
    "\n",
    "### For loop"
   ]
  },
  {
   "cell_type": "code",
   "execution_count": null,
   "metadata": {},
   "outputs": [],
   "source": [
    "words = 'spam ham eggs'.split()"
   ]
  },
  {
   "cell_type": "code",
   "execution_count": null,
   "metadata": {},
   "outputs": [],
   "source": [
    "# exemplo 1\n",
    "for word in words:\n",
    "    print(word, len(word))"
   ]
  },
  {
   "cell_type": "code",
   "execution_count": null,
   "metadata": {},
   "outputs": [],
   "source": [
    "# exemplo 2    \n",
    "for index, word in enumerate(words):\n",
    "    print(index, word, len(word))"
   ]
  },
  {
   "cell_type": "code",
   "execution_count": null,
   "metadata": {},
   "outputs": [],
   "source": [
    "# exemplo 3    \n",
    "for x in range(10):\n",
    "    print(x)"
   ]
  },
  {
   "cell_type": "code",
   "execution_count": null,
   "metadata": {},
   "outputs": [],
   "source": [
    "# exemplo 4, warning!\n",
    "for x in len(words):\n",
    "    print(x)"
   ]
  },
  {
   "cell_type": "code",
   "execution_count": null,
   "metadata": {},
   "outputs": [],
   "source": [
    "# exemplo 5\n",
    "print(words)\n",
    "for x in words:\n",
    "    if 'shrubbery' in x:\n",
    "        print(x)\n",
    "else:\n",
    "    print('For loop is done.')"
   ]
  },
  {
   "cell_type": "markdown",
   "metadata": {},
   "source": [
    "### Pass:"
   ]
  },
  {
   "cell_type": "code",
   "execution_count": null,
   "metadata": {},
   "outputs": [],
   "source": [
    "def test_login_shoud_succeed():\n",
    "    pass\n",
    "\n",
    "class ContainerManager:\n",
    "    pass"
   ]
  },
  {
   "cell_type": "markdown",
   "metadata": {},
   "source": [
    "### While, continue e break"
   ]
  },
  {
   "cell_type": "code",
   "execution_count": null,
   "metadata": {},
   "outputs": [],
   "source": [
    "spams = ['spam', 'ham','eggs']\n",
    "index = 0\n",
    "while True:\n",
    "    if spams[index] == 'spam':\n",
    "        index +=1\n",
    "        continue\n",
    "    elif spams[index] == 'eggs':\n",
    "        break\n",
    "    else:\n",
    "        index +=1\n",
    "        print(spams[index])"
   ]
  },
  {
   "cell_type": "markdown",
   "metadata": {},
   "source": [
    "## Funções"
   ]
  },
  {
   "cell_type": "code",
   "execution_count": null,
   "metadata": {},
   "outputs": [],
   "source": [
    "import random\n",
    "\n",
    "def get_spam(n):\n",
    "    \"\"\"Returns a list of spam\n",
    "    \n",
    "    This function returns a list of spams because King Arthur\n",
    "    thinks this is important.\n",
    "    \n",
    "    n: number of spam elements\n",
    "    returns: list of Holy Grail items\n",
    "    \"\"\"\n",
    "    result = []\n",
    "    for _ in range(n):\n",
    "        result.append(random.choice(['spam', 'eggs', 'Ni!', 'shrubbery', 'Patsy']))\n",
    "    return result"
   ]
  },
  {
   "cell_type": "code",
   "execution_count": null,
   "metadata": {},
   "outputs": [],
   "source": [
    "get_spam\n",
    "print(get_spam.__doc__)\n",
    "get_spam(10)"
   ]
  },
  {
   "cell_type": "code",
   "execution_count": null,
   "metadata": {},
   "outputs": [],
   "source": [
    "def get_spam_with_header(header, n=3):\n",
    "    return header + ' ' +  ' '.join(get_spam(n))\n",
    "\n",
    "def get_spam_with_dicts(header, n=3, **kwargs):\n",
    "    result = []\n",
    "    for k,v in kwargs.items():\n",
    "        result.append(f'{k}, {v}')\n",
    "\n",
    "    return ' '.join(result) + get_spam_with_header(header, n)"
   ]
  },
  {
   "cell_type": "code",
   "execution_count": null,
   "metadata": {},
   "outputs": [],
   "source": [
    "get_spam_with_header('Sir Arthur', n=5)"
   ]
  },
  {
   "cell_type": "code",
   "execution_count": null,
   "metadata": {},
   "outputs": [],
   "source": [
    "get_spam_with_dicts(header='King Arthur ',**{'a':'shrubberry!!'})"
   ]
  },
  {
   "cell_type": "markdown",
   "metadata": {},
   "source": [
    "A função my_function abaixo inicializa a lista L com lista vazia apenas no carregamento da função (warning!!!)."
   ]
  },
  {
   "cell_type": "code",
   "execution_count": null,
   "metadata": {},
   "outputs": [],
   "source": [
    "def my_function(a, L=[]):\n",
    "    L.append(a)\n",
    "    return L\n",
    "\n",
    "print(my_function(1))\n",
    "print(my_function(2))\n",
    "print(my_function(3))\n",
    "\n",
    "def my_function(a, L=None):\n",
    "    if L is None:\n",
    "        L = []\n",
    "    L.append(a)\n",
    "    return L"
   ]
  },
  {
   "cell_type": "markdown",
   "metadata": {},
   "source": [
    "Na função cheeseshop abaixo, temos três parâmetros (kind, arguments, keywords). O parâmetro Kind é um requisito sem o qual a função lança um exceção. Arguments e keywords são opcionais."
   ]
  },
  {
   "cell_type": "code",
   "execution_count": null,
   "metadata": {},
   "outputs": [],
   "source": [
    "def cheeseshop(kind, *arguments, **keywords):\n",
    "    print(\"-- Do you have any\", kind, \"?\")\n",
    "    print(\"-- I'm sorry, we're all out of\", kind)\n",
    "    for arg in arguments:\n",
    "        print(arg)\n",
    "    print(\"-\" * 40)\n",
    "    for kw in keywords:\n",
    "        print(kw, \":\", keywords[kw])"
   ]
  },
  {
   "cell_type": "code",
   "execution_count": null,
   "metadata": {},
   "outputs": [],
   "source": [
    "cheeseshop(\"Limburger\", \n",
    "           \"It's very runny, sir.\",\n",
    "           \"It's really very, VERY runny, sir.\",\n",
    "           shopkeeper=\"Michael Palin\",\n",
    "           client=\"John Cleese\",\n",
    "           sketch=\"Cheese Shop Sketch\")"
   ]
  },
  {
   "cell_type": "code",
   "execution_count": null,
   "metadata": {},
   "outputs": [],
   "source": [
    "def get_spam(ham, spam, eggs=2):\n",
    "    print(ham, spam, eggs)\n",
    "\n",
    "get_spam(1,2,3)"
   ]
  },
  {
   "cell_type": "code",
   "execution_count": null,
   "metadata": {},
   "outputs": [],
   "source": [
    "get_spam(ham=1,spam=2,eggs=3)"
   ]
  },
  {
   "cell_type": "code",
   "execution_count": null,
   "metadata": {},
   "outputs": [],
   "source": [
    "get_spam(spam=2,ham=1,eggs=3)"
   ]
  },
  {
   "cell_type": "markdown",
   "metadata": {},
   "source": [
    "### Type hints"
   ]
  },
  {
   "cell_type": "code",
   "execution_count": null,
   "metadata": {},
   "outputs": [],
   "source": [
    "def cheesy_talk(ham: str, eggs: str = 'eggs') -> str:\n",
    "    print(\"Annotations:\", cheesy_talk.__annotations__)\n",
    "    print(\"Arguments:\", ham, eggs)\n",
    "    return ham + ' and ' + eggs\n",
    "\n",
    "cheesy_talk('spam')\n",
    "\n",
    "print(cheesy_talk.__annotations__)"
   ]
  },
  {
   "cell_type": "markdown",
   "metadata": {},
   "source": [
    "## lambda\n",
    "\n",
    "Cria uma função anônima."
   ]
  },
  {
   "cell_type": "code",
   "execution_count": null,
   "metadata": {},
   "outputs": [],
   "source": [
    "pairs = [(1, 'one'), (2, 'two'), (3, 'three'), (4, 'four')]\n",
    "pairs.sort(key=lambda pair: pair[1])\n",
    "pairs\n",
    "pairs.sort()\n",
    "pairs"
   ]
  },
  {
   "cell_type": "markdown",
   "metadata": {},
   "source": [
    "## map\n",
    "\n",
    "Retorna uma lista de resultados aplicando uma função à uma coleção."
   ]
  },
  {
   "cell_type": "code",
   "execution_count": null,
   "metadata": {},
   "outputs": [],
   "source": [
    "list(map(lambda x:2 * x, [1,2,3]))\n",
    "x = map(lambda x:2 * x, [1,2,3])\n",
    "i = iter(x)"
   ]
  },
  {
   "cell_type": "code",
   "execution_count": null,
   "metadata": {},
   "outputs": [],
   "source": [
    "next(i)"
   ]
  },
  {
   "cell_type": "markdown",
   "metadata": {},
   "source": [
    "## filter\n",
    "\n",
    "Retorna uma lista de resultados aplicando uma função que seleciona um subconjunto da coleção."
   ]
  },
  {
   "cell_type": "code",
   "execution_count": null,
   "metadata": {},
   "outputs": [],
   "source": [
    "list(filter(lambda x:x % 2 == 0, [1,2,3]))"
   ]
  },
  {
   "cell_type": "markdown",
   "metadata": {},
   "source": [
    "## reduce\n",
    "\n",
    "Reduz a coleção aplicando a função à coleção."
   ]
  },
  {
   "cell_type": "code",
   "execution_count": null,
   "metadata": {},
   "outputs": [],
   "source": [
    "import functools\n",
    "\n",
    "def please_add(a,b):\n",
    "    return a + b\n",
    "\n",
    "functools.reduce(please_add, [1, 2, 3])\n",
    "functools.reduce(lambda a,b:a+b,[1,1,1,1,1,1,1,4])"
   ]
  },
  {
   "cell_type": "markdown",
   "metadata": {},
   "source": [
    "## List Comprehensions, list comps"
   ]
  },
  {
   "cell_type": "code",
   "execution_count": null,
   "metadata": {},
   "outputs": [],
   "source": [
    "## List Comprehensions, list comps\n",
    "squares = []\n",
    "for x in range(10):\n",
    "    squares.append(x**2)\n",
    "\n",
    "squares = [x**2 for x in range(10)]\n",
    "\n",
    "squares = [x**2 for x in range(10) if x > 5]\n",
    "\n",
    "[(x, x**2) for x in range(6)]\n",
    "[(x, y) for x in range(3) for y in 'abcde']\n",
    "[(x, y) for x in range(3) for y in 'abcde' if x > 1]"
   ]
  },
  {
   "cell_type": "markdown",
   "metadata": {},
   "source": [
    "## del\n",
    "\n",
    "Remover um objeto do namespace."
   ]
  },
  {
   "cell_type": "code",
   "execution_count": null,
   "metadata": {},
   "outputs": [],
   "source": [
    "spams = ['spam', 'ham','eggs']\n",
    "del spams[0]\n",
    "spams\n",
    "\n",
    "del spams"
   ]
  },
  {
   "cell_type": "markdown",
   "metadata": {},
   "source": [
    "## tuples (Sequence)\n",
    "\n",
    "Sequência imutável."
   ]
  },
  {
   "cell_type": "code",
   "execution_count": null,
   "metadata": {},
   "outputs": [],
   "source": [
    "spams = ('spam', 'eggs')\n",
    "spams = ('spam', ('ham', 'eggs'))\n",
    "spams = 'ham',\n",
    "\n",
    "len(spams)"
   ]
  },
  {
   "cell_type": "markdown",
   "metadata": {},
   "source": [
    "Tuples são imutáveis:"
   ]
  },
  {
   "cell_type": "code",
   "execution_count": null,
   "metadata": {},
   "outputs": [],
   "source": [
    "#spams[0] = 'ham'\n",
    "aa=list(spams)\n",
    "aa\n",
    "spams\n"
   ]
  },
  {
   "cell_type": "markdown",
   "metadata": {},
   "source": [
    "# unpacking"
   ]
  },
  {
   "cell_type": "code",
   "execution_count": null,
   "metadata": {},
   "outputs": [],
   "source": [
    "spam, *, eggs = ('spam', 'ham', 'eggs', 'eggs')"
   ]
  },
  {
   "cell_type": "markdown",
   "metadata": {},
   "source": [
    "## sets"
   ]
  },
  {
   "cell_type": "code",
   "execution_count": null,
   "metadata": {},
   "outputs": [],
   "source": [
    "print(set('spamspamspamham'))\n",
    "print({'spamspamspam'})\n",
    "print({'spam','spam','spam'})\n",
    "\n",
    "spams = set(['spam', 'ham','ham', 'eggs'])"
   ]
  },
  {
   "cell_type": "markdown",
   "metadata": {},
   "source": [
    "## set comprehensions, setcomps"
   ]
  },
  {
   "cell_type": "code",
   "execution_count": null,
   "metadata": {},
   "outputs": [],
   "source": [
    "spams = ['spam', 'ham','eggs', 'eggs', 'Eggs', 'Spam', 'SPAM']\n",
    "spam_set = {item for item in spams}\n",
    "spam_set"
   ]
  },
  {
   "cell_type": "markdown",
   "metadata": {},
   "source": [
    "## dictionary, dict\n",
    "\n",
    "Atenção, o exemplo de dict abaixo usa `''` e `None` como keys(chaves). Não é recomendável usá-los como chaves mas uso somente neste caso pois ilustra o requisito da necessidade do método `__hash__` das chaves. Verifique se `''` e `None` tem o `__hash__` e compare com o `__hash__` de uma lista."
   ]
  },
  {
   "cell_type": "code",
   "execution_count": null,
   "metadata": {},
   "outputs": [],
   "source": [
    "organics = {\n",
    "    '': '',\n",
    "    None: '2',\n",
    "    'king arthur': \"You're a loony!\",\n",
    "    'black knight': \"\"\"The Black Knights always triumph!\"\"\",\n",
    "    314: ':-0',\n",
    "}\n",
    "\n",
    "print(organics)\n",
    "crew = dict(captain='Janeway', commander='Chakotay', security_officer='Tuvok', borg='Seven of Nine')\n",
    "print(crew)"
   ]
  },
  {
   "cell_type": "markdown",
   "metadata": {},
   "source": [
    "## dict comprehensions, dictcomps"
   ]
  },
  {
   "cell_type": "code",
   "execution_count": null,
   "metadata": {},
   "outputs": [],
   "source": [
    "my_dict = {x: x**2 for x in (2, 4, 6)}\n",
    "print(my_dict)"
   ]
  },
  {
   "cell_type": "markdown",
   "metadata": {},
   "source": [
    "## dict methods and loop examples"
   ]
  },
  {
   "cell_type": "code",
   "execution_count": null,
   "metadata": {},
   "outputs": [],
   "source": [
    "list(organics.keys())"
   ]
  },
  {
   "cell_type": "code",
   "execution_count": null,
   "metadata": {},
   "outputs": [],
   "source": [
    "for key, value in organics.items():\n",
    "    print(key, value,sep=':')\n",
    "\n",
    "for k, v in organics.items():\n",
    "    print(k, v, sep=':')"
   ]
  },
  {
   "cell_type": "code",
   "execution_count": null,
   "metadata": {},
   "outputs": [],
   "source": [
    "crew = dict(captain='Janeway', commander='Chakotay', security_officer='Tuvok', borg='Seven of Nine')\n",
    "print(sorted(crew))\n",
    "print(sorted(crew, key=lambda d:crew[d]))"
   ]
  },
  {
   "cell_type": "code",
   "execution_count": null,
   "metadata": {},
   "outputs": [],
   "source": [
    "for k in crew:\n",
    "    print(k)\n",
    "\n",
    "for v in crew.values():\n",
    "    print(v)"
   ]
  },
  {
   "cell_type": "code",
   "execution_count": null,
   "metadata": {},
   "outputs": [],
   "source": [
    "for i,k in enumerate(crew):\n",
    "    print(i, k, sep=') ')\n",
    "\n",
    "for i,k in enumerate(crew, 1000):\n",
    "    print(i, k, sep=') ')"
   ]
  },
  {
   "cell_type": "code",
   "execution_count": null,
   "metadata": {},
   "outputs": [],
   "source": [
    "questions = ['name', 'quest', 'favorite color']\n",
    "answers = ['lancelot', 'the holy grail', 'blue']\n",
    "for q, a in zip(questions, answers):\n",
    "    print('What is your {0}?  It is {1}.'.format(q, a))"
   ]
  },
  {
   "cell_type": "markdown",
   "metadata": {},
   "source": [
    "## modules\n",
    "\n",
    "Um módulo é um arquivo que contém funções e classes Python. Dentro do seu módulo a variável `__name__` contém o nome do seu módulo. O `__name__` tem o valor `'__main__'` se o módulo for usado na linha de comando."
   ]
  },
  {
   "cell_type": "code",
   "execution_count": null,
   "metadata": {},
   "outputs": [],
   "source": [
    "import sys, os\n",
    "import pandas as pd\n",
    "import json\n",
    "from json import loads, dumps\n",
    "from json import * # not recommended"
   ]
  },
  {
   "cell_type": "markdown",
   "metadata": {},
   "source": [
    "\n",
    "Crie o arquivo httpbin_manager.py com o conteúdo abaixo:"
   ]
  },
  {
   "cell_type": "code",
   "execution_count": null,
   "metadata": {},
   "outputs": [],
   "source": [
    "#!/usr/bin/env python\n",
    "\n",
    "import sys \n",
    "import requests\n",
    "\n",
    "\n",
    "def get_uuid(n): \n",
    "    result = [] \n",
    "    for _ in range(n): \n",
    "        resp = requests.get('https://httpbin.org/uuid') \n",
    "        result.append(resp.json()['uuid'])\n",
    "\n",
    "    return result\n",
    "\n",
    "\n",
    "if __name__ == \"__main__\": \n",
    "    print(get_uuid(int(sys.argv[1])))"
   ]
  },
  {
   "cell_type": "code",
   "execution_count": null,
   "metadata": {},
   "outputs": [],
   "source": [
    "python httpbin_manager.py 7"
   ]
  },
  {
   "cell_type": "code",
   "execution_count": null,
   "metadata": {},
   "outputs": [],
   "source": [
    "import sys\n",
    "print(sys.ps1)\n",
    "sys.ps1 = 'please state the medical emergency ' + sys.ps1"
   ]
  },
  {
   "cell_type": "markdown",
   "metadata": {},
   "source": [
    "## standard modules\n",
    "\n",
    "- sys\n",
    "- os\n",
    "- antigravity\n",
    "- ipaddress\n",
    "- webbrowser"
   ]
  },
  {
   "cell_type": "code",
   "execution_count": null,
   "metadata": {},
   "outputs": [],
   "source": [
    "import webbrowser\n",
    "\n",
    "webbrowser.open_new_tab('https://xkcd.com/378/')"
   ]
  },
  {
   "cell_type": "markdown",
   "metadata": {},
   "source": [
    "# dir\n",
    "\n",
    "Lista os nomes do escopo atual (namespace) ou lista os atributos do objeto."
   ]
  },
  {
   "cell_type": "code",
   "execution_count": null,
   "metadata": {},
   "outputs": [],
   "source": [
    "import sys\n",
    "dir(sys)\n",
    "dir()"
   ]
  },
  {
   "cell_type": "markdown",
   "metadata": {},
   "source": [
    "## packages\n",
    "\n",
    "Conjunto de módulos com `__init__.py`\n",
    "\n",
    "`__init__.py` pode ter código de inicialização do pacote como o `__all__` (lista de módulos que é carregado p/ import *)\n",
    "\n",
    "`__path__` -> lista de diretórios que tem o `__init__.py` p/ ser carregado\n"
   ]
  },
  {
   "cell_type": "markdown",
   "metadata": {},
   "source": [
    "## inputs/outputs\n",
    "\n",
    "Entradas e saídas\n",
    "stdin (0), stdout (1), stderr(2)"
   ]
  },
  {
   "cell_type": "markdown",
   "metadata": {},
   "source": [
    "`!ls -l non-existent-file > error 2>&1`"
   ]
  },
  {
   "cell_type": "markdown",
   "metadata": {},
   "source": [
    "## strings"
   ]
  },
  {
   "cell_type": "code",
   "execution_count": null,
   "metadata": {},
   "outputs": [],
   "source": [
    "print?\n",
    "\n",
    "import string\n",
    "\n",
    "template = 'WHAT is the $object of an $bird?'\n",
    "my_template = string.Template(template)\n",
    "my_template.substitute({'bird': 'unladden swallow', 'object': 'airspeed velocity'})\n",
    "my_template.safe_substitute({'bird': 'unladden swallow'})"
   ]
  },
  {
   "cell_type": "code",
   "execution_count": null,
   "metadata": {},
   "outputs": [],
   "source": [
    "my_template.substitute({'bird': 'unladden swallow'})"
   ]
  },
  {
   "cell_type": "markdown",
   "metadata": {},
   "source": [
    "Como converter valores p/ string?\n",
    "\n",
    "str: gera string p/ leitura p/ \"humanos\"; se não tiver representação usa a função `repr`\n",
    "\n",
    "repr: gera string p/ o interpretador python (lança SyntaxError se não tem representação como string)"
   ]
  },
  {
   "cell_type": "code",
   "execution_count": null,
   "metadata": {},
   "outputs": [],
   "source": [
    "str(1), repr(1), str(1)==repr(1)\n",
    "str((1,)), repr((1,)), str((1,))==repr((1,))\n",
    "str([1]), repr([1]),str([1])==repr([1])\n",
    "str({1:1}), repr({1:1}),str({1:1})==repr({1:1})\n",
    "str('1'), repr('1'),str('1')==repr('1')"
   ]
  },
  {
   "cell_type": "markdown",
   "metadata": {},
   "source": [
    "formatting numbers:"
   ]
  },
  {
   "cell_type": "code",
   "execution_count": null,
   "metadata": {},
   "outputs": [],
   "source": [
    "from math import pi\n",
    "\n",
    "for n in range(10):\n",
    "    print('{:4.2f} {:6.4f}'.format(pi, pi * n))\n",
    "\n",
    "'12'.zfill(5)\n",
    "'-3.14'.zfill(7)\n",
    "'3.14159265359'.zfill(5)\n",
    "str(pi).zfill(20)\n",
    "'{0} and {1}'.format('spam', 'eggs')\n",
    "'{1} and {0}'.format('spam', 'eggs')\n",
    "'In order to pass through these {place}... You must find... {treasure}!!!'.format(**{'place': 'woods', 'treasure': 'A SHRUBBERRY!'})\n",
    "'In order to pass through these {place}... You must find... {treasure}!!!'.format(place='woods',treasure='A SHRUBBERRY!')\n",
    "'The value of PI is approximately %5.3f.' % pi"
   ]
  },
  {
   "cell_type": "markdown",
   "metadata": {},
   "source": [
    "### f-strings\n",
    "\n",
    "É uma feature nova do Python 3.6 e a mais rápida p/ renderizar de acordo com [este post](https://cito.github.io/blog/f-strings/)."
   ]
  },
  {
   "cell_type": "code",
   "execution_count": null,
   "metadata": {},
   "outputs": [],
   "source": [
    "spam = ','.join(['spam'] * 3)\n",
    "\n",
    "print(f'There is a lot of {spam} in this video: https://www.youtube.com/watch?v=anwy2MPT5RE')"
   ]
  },
  {
   "cell_type": "markdown",
   "metadata": {},
   "source": [
    "## Arquivos\n",
    "\n",
    "Vamos escolher um [csv aleatório](https://www.kaggle.com/epattaro/brazils-house-of-deputies-reimbursements).\n",
    "\n",
    "Ler arquivo:"
   ]
  },
  {
   "cell_type": "code",
   "execution_count": null,
   "metadata": {},
   "outputs": [],
   "source": [
    "file_handler = open('deputies_dataset.csv')\n",
    "file_handler = open('deputies_dataset.csv', 'r')\n",
    "file_handler.close()\n",
    "groups = open('/etc/group').read()\n",
    "line = open('/etc/group').readline()\n",
    "lines = open('/etc/group').readlines()\n",
    "lines"
   ]
  },
  {
   "cell_type": "markdown",
   "metadata": {},
   "source": [
    "Escrever/criar arquivo:"
   ]
  },
  {
   "cell_type": "code",
   "execution_count": null,
   "metadata": {},
   "outputs": [],
   "source": [
    "fh = open('my_dataset.csv', 'w')\n",
    "fh = open('my_dataset.csv', 'a')"
   ]
  },
  {
   "cell_type": "markdown",
   "metadata": {},
   "source": [
    "Ler *e* escrever em arquivo:"
   ]
  },
  {
   "cell_type": "code",
   "execution_count": null,
   "metadata": {},
   "outputs": [],
   "source": [
    "fh = open('my_dataset.csv', 'r+')"
   ]
  },
  {
   "cell_type": "markdown",
   "metadata": {},
   "source": [
    "Ler arquivo binário:\n",
    "\n",
    "Visite o link abaixo e veja o header(cabeçalho) do arquivo png.\n",
    "\n",
    "http://www.libpng.org/pub/png/spec/1.2/PNG-Structure.html"
   ]
  },
  {
   "cell_type": "code",
   "execution_count": null,
   "metadata": {},
   "outputs": [],
   "source": [
    "fh = open('python-logo.png', 'rb')\n",
    "png_bytes = fh.read(8)\n",
    "for x in png_bytes:\n",
    "    print('%d' % x, end=' ')"
   ]
  },
  {
   "cell_type": "markdown",
   "metadata": {},
   "source": [
    "A função readline lê até encontrar a terminação de linha (\\n, \\r, \\r\\n) para arquivo texto e binário."
   ]
  },
  {
   "cell_type": "code",
   "execution_count": null,
   "metadata": {},
   "outputs": [],
   "source": [
    "fh.seek(0)\n",
    "print(fh.readline())\n",
    "print(fh.readline())\n",
    "fh.close()"
   ]
  },
  {
   "cell_type": "markdown",
   "metadata": {},
   "source": [
    "Escrever arquivo:\n"
   ]
  },
  {
   "cell_type": "code",
   "execution_count": null,
   "metadata": {},
   "outputs": [],
   "source": [
    "fh=open('my_text_file', 'w')\n",
    "fh.write('You must now cut down the tallest tree in the forest... With... A HERRING!!!!!')\n",
    "fh.close()"
   ]
  },
  {
   "cell_type": "markdown",
   "metadata": {},
   "source": [
    "Usando o context manager *with*:\n"
   ]
  },
  {
   "cell_type": "code",
   "execution_count": null,
   "metadata": {},
   "outputs": [],
   "source": [
    "content = None\n",
    "import os\n",
    "filename_full_path = os.path.join(os.getcwd(), 'python-logo.png')\n",
    "with open(filename_full_path, 'rb') as fh:\n",
    "    content = fh.read()\n",
    "\n",
    "content\n",
    "print(content)"
   ]
  },
  {
   "cell_type": "code",
   "execution_count": null,
   "metadata": {},
   "outputs": [],
   "source": [
    "print(content)"
   ]
  },
  {
   "cell_type": "markdown",
   "metadata": {},
   "source": [
    "## json\n",
    "\n",
    "JavaScript Object Notation\n",
    "\n",
    "Serializar: converter estrutura de dados p/ string.\n",
    "\n",
    "Deserializar: converter string p/ estrutura de dados.\n"
   ]
  },
  {
   "cell_type": "code",
   "execution_count": null,
   "metadata": {},
   "outputs": [],
   "source": [
    "import json\n",
    "json.dump?\n",
    "json.dumps??\n",
    "\n",
    "fh= open('myjson', 'r+')\n",
    "dict_data = {\n",
    "    'Old Crone to Whom King Arthur Said \"Ni--\"': 'Who sent you?',\n",
    "    'King Arthur': 'The Knights Who Say Ni.',\n",
    "    }\n",
    "serialized_json = json.dumps(dict_data)\n",
    "json.loads(serialized_json)\n",
    "\n",
    "json.dump(serialized_json, fh)\n",
    "fh.seek(0)\n",
    "json.load(fh)\n",
    "fh.close()"
   ]
  },
  {
   "cell_type": "markdown",
   "metadata": {},
   "source": [
    "## Errors and Exceptions\n",
    "\n",
    "Erros de sintaxe e exceções"
   ]
  },
  {
   "cell_type": "code",
   "execution_count": null,
   "metadata": {},
   "outputs": [],
   "source": [
    "print 'this is wrong!'"
   ]
  },
  {
   "cell_type": "markdown",
   "metadata": {},
   "source": [
    "Exceções:"
   ]
  },
  {
   "cell_type": "code",
   "execution_count": null,
   "metadata": {},
   "outputs": [],
   "source": [
    "#1/0\n",
    "#print(eggs_with_ham)\n",
    "from math import pi\n",
    "'pi' + str(pi)"
   ]
  },
  {
   "cell_type": "markdown",
   "metadata": {},
   "source": [
    "## Como tratar exceções\n",
    "\n",
    "Exemplo 1: try, except, finally"
   ]
  },
  {
   "cell_type": "code",
   "execution_count": null,
   "metadata": {},
   "outputs": [],
   "source": [
    "try:\n",
    "    filename = 'non-existent-file'\n",
    "    fh = open(filename)\n",
    "except FileNotFoundError:\n",
    "    print(f'Cannot open file {filename}')\n",
    "finally:\n",
    "    fh.close()\n",
    "\n",
    "print(fh.closed)"
   ]
  },
  {
   "cell_type": "markdown",
   "metadata": {},
   "source": [
    "Exemplo 2: except não especificado. \n",
    "\n",
    "Uma boa prática é capturar exceções relacionadas com as operações do bloco try.\n",
    "\n",
    "Para tanto, você pode consultar as docstrings ou forçar erros e simular quais exceções são lançadas."
   ]
  },
  {
   "cell_type": "code",
   "execution_count": null,
   "metadata": {},
   "outputs": [],
   "source": [
    "try:\n",
    "    filename = 'non-existent-file'\n",
    "    with open(filename) as fh:\n",
    "        fh.read()\n",
    "except:  # warning!\n",
    "    print(f'Cannot open file {filename}')"
   ]
  },
  {
   "cell_type": "markdown",
   "metadata": {},
   "source": [
    "Exemplo 3: excepts especificados"
   ]
  },
  {
   "cell_type": "code",
   "execution_count": null,
   "metadata": {},
   "outputs": [],
   "source": [
    "while True:\n",
    "    try:\n",
    "        x = int(input(\"Please enter a number: \"))\n",
    "        break\n",
    "    except (ValueError, TypeError):\n",
    "        print(\"Oops!  That was no valid number.  Try again...\")\n",
    "    except ZeroDivisionError:\n",
    "        print('Zero division error :-0')"
   ]
  },
  {
   "cell_type": "markdown",
   "metadata": {},
   "source": [
    "Exemplo 4: lançar exceção explícitamente."
   ]
  },
  {
   "cell_type": "code",
   "execution_count": null,
   "metadata": {},
   "outputs": [],
   "source": [
    "spam = 'eggs'\n",
    "if spam == 'eggs':\n",
    "    raise ValueError('Ni!')"
   ]
  },
  {
   "cell_type": "markdown",
   "metadata": {},
   "source": [
    "Exemplo 5: isolar código do except usando *else*"
   ]
  },
  {
   "cell_type": "code",
   "execution_count": null,
   "metadata": {},
   "outputs": [],
   "source": [
    "for arg in ['deputies_dataset.csv', 'non-existent-file']:\n",
    "    try:\n",
    "        f = open(arg, 'r')\n",
    "    except OSError:\n",
    "        print('cannot open', arg)\n",
    "    else:\n",
    "        print(arg, 'has', len(f.readlines()), 'lines')\n",
    "        f.close()"
   ]
  },
  {
   "cell_type": "markdown",
   "metadata": {},
   "source": [
    "Exemplo 6: exceções de usuário"
   ]
  },
  {
   "cell_type": "code",
   "execution_count": null,
   "metadata": {},
   "outputs": [],
   "source": [
    "class InvalidLogin(Exception):\n",
    "    pass\n",
    "\n",
    "class UserNotFound(Exception):\n",
    "    def __init__(self, user):\n",
    "        self.user = user"
   ]
  },
  {
   "cell_type": "code",
   "execution_count": null,
   "metadata": {},
   "outputs": [],
   "source": [
    "raise InvalidLogin()"
   ]
  },
  {
   "cell_type": "code",
   "execution_count": null,
   "metadata": {},
   "outputs": [],
   "source": [
    "raise UserNotFound(1)"
   ]
  },
  {
   "cell_type": "markdown",
   "metadata": {},
   "source": [
    "Exemplo 7: ordem de execução do else e finally\n",
    "\n",
    "O bloco `else` é executado se não tiver exceção lançada.\n",
    "\n",
    "O bloco `finally` sempre é executado. "
   ]
  },
  {
   "cell_type": "code",
   "execution_count": null,
   "metadata": {},
   "outputs": [],
   "source": [
    "def divide(x, y):\n",
    "    try:\n",
    "        result = x / y\n",
    "    except ZeroDivisionError:\n",
    "        print(\"division by zero!\")\n",
    "    else:\n",
    "        print(\"result is\", result)\n",
    "    finally:\n",
    "        print(\"executing finally clause\")"
   ]
  },
  {
   "cell_type": "code",
   "execution_count": null,
   "metadata": {},
   "outputs": [],
   "source": [
    "divide(2, 1)"
   ]
  },
  {
   "cell_type": "code",
   "execution_count": null,
   "metadata": {},
   "outputs": [],
   "source": [
    "divide(2, 0)"
   ]
  },
  {
   "cell_type": "code",
   "execution_count": null,
   "metadata": {},
   "outputs": [],
   "source": [
    "divide(\"2\", \"1\")"
   ]
  },
  {
   "cell_type": "code",
   "execution_count": null,
   "metadata": {},
   "outputs": [],
   "source": [
    "def divide(x, y):\n",
    "    try:\n",
    "        result = x / y\n",
    "    except ZeroDivisionError:\n",
    "        print(\"division by zero!\")\n",
    "    except TypeError:\n",
    "        print('Invalid input, please input numbers to divide function.')\n",
    "    else:\n",
    "        print(\"result is\", result)\n",
    "    finally:\n",
    "        print(\"executing finally clause\")"
   ]
  },
  {
   "cell_type": "code",
   "execution_count": null,
   "metadata": {},
   "outputs": [],
   "source": [
    "divide(\"2\", \"1\")"
   ]
  },
  {
   "cell_type": "markdown",
   "metadata": {},
   "source": [
    "## classes\n",
    "\n",
    "Namespaces: são mappings (dicionários) de nomes p/ objetos."
   ]
  },
  {
   "cell_type": "code",
   "execution_count": null,
   "metadata": {},
   "outputs": [],
   "source": [
    "def print_locals():\n",
    "    spam = 'eggs'\n",
    "    spams = ['eggs', 'ham', 'spam']\n",
    "    print(locals())"
   ]
  },
  {
   "cell_type": "code",
   "execution_count": null,
   "metadata": {},
   "outputs": [],
   "source": [
    "locals()"
   ]
  },
  {
   "cell_type": "code",
   "execution_count": null,
   "metadata": {},
   "outputs": [],
   "source": [
    "print_locals()"
   ]
  },
  {
   "cell_type": "code",
   "execution_count": null,
   "metadata": {},
   "outputs": [],
   "source": [
    "globals()"
   ]
  },
  {
   "cell_type": "markdown",
   "metadata": {},
   "source": [
    "Exemplo de escopo"
   ]
  },
  {
   "cell_type": "code",
   "execution_count": null,
   "metadata": {},
   "outputs": [],
   "source": [
    "def scope_test():\n",
    "    def do_local():\n",
    "        spam = \"local spam\"\n",
    "\n",
    "    def do_nonlocal():\n",
    "        nonlocal spam\n",
    "        spam = \"nonlocal spam\"\n",
    "\n",
    "    def do_global():\n",
    "        global spam\n",
    "        spam = \"global spam\"\n",
    "\n",
    "    spam = \"test spam\"\n",
    "    do_local()\n",
    "    print(\"After local assignment:\", spam)\n",
    "    do_nonlocal()\n",
    "    print(\"After nonlocal assignment:\", spam)\n",
    "    do_global()\n",
    "    print(\"After global assignment:\", spam)\n",
    "\n",
    "scope_test()\n",
    "print(\"In global scope:\", spam)"
   ]
  },
  {
   "cell_type": "markdown",
   "metadata": {},
   "source": [
    "Exemplo de classe:"
   ]
  },
  {
   "cell_type": "code",
   "execution_count": null,
   "metadata": {},
   "outputs": [],
   "source": [
    "import requests\n",
    "import webbrowser\n",
    "\n",
    "class HttpUtil:\n",
    "    \"\"\"This class is a httpbin.org client\n",
    "    \"\"\"\n",
    "    url = 'https://httpbin.org/'\n",
    "\n",
    "    now_url = 'https://now.httpbin.org/'\n",
    "\n",
    "    def _get_json(self, resource, url=url):\n",
    "        return requests.get(url + resource).json()\n",
    "\n",
    "    def get_uuid(self):\n",
    "        return self._get_json('uuid')\n",
    "\n",
    "    def get_current_time(self):\n",
    "        return self._get_json('', url=now_url)\n",
    "\n",
    "    def get_headers(self):\n",
    "        return self._get_json('headers')\n",
    "\n",
    "    def get_ip(self):\n",
    "        return self._get_json('ip')\n",
    "\n",
    "    def get_user_agent(self):\n",
    "        return self._get_json('user-agent')\n",
    "\n",
    "    def get_status_code(self, code):\n",
    "        return requests.get(HttpUtil.url + 'status/' + str(code)).status_code\n",
    "\n",
    "    def redirect_to(self, redirect_url='https://xkcd.com/353/', use_browser=False):\n",
    "        url = HttpUtil.url + 'redirect-to?url=' + redirect_url\n",
    "        if use_browser:\n",
    "            return webbrowser.open_new_tab(url)\n",
    "        return requests.get(url).content"
   ]
  },
  {
   "cell_type": "code",
   "execution_count": null,
   "metadata": {},
   "outputs": [],
   "source": [
    "http_client = HttpUtil()"
   ]
  },
  {
   "cell_type": "code",
   "execution_count": null,
   "metadata": {},
   "outputs": [],
   "source": [
    "type(HttpUtil.get_current_time), type(http_client.get_current_time)"
   ]
  },
  {
   "cell_type": "markdown",
   "metadata": {},
   "source": [
    "## class inheritance"
   ]
  },
  {
   "cell_type": "code",
   "execution_count": null,
   "metadata": {},
   "outputs": [],
   "source": [
    "# example 1\n",
    "class Base1():\n",
    "    def __init__(self):\n",
    "        self.var1 = 'base1'\n",
    "\n",
    "    def itsme(self):\n",
    "        print('Base1')\n",
    "\n",
    "    def base1_only(self):\n",
    "        print('base1 only')\n",
    "\n",
    "\n",
    "class Base2():\n",
    "    def __init__(self):\n",
    "        self.var2 = 'base2'\n",
    "\n",
    "    def itsme(self):\n",
    "        print('Base2')\n",
    "\n",
    "    def base2_only(self):\n",
    "        print('base2 only')\n",
    "\n",
    "class MyClass(Base1 , Base2):\n",
    "    pass"
   ]
  },
  {
   "cell_type": "code",
   "execution_count": null,
   "metadata": {},
   "outputs": [],
   "source": [
    "c = MyClass()\n",
    "c.itsme()\n",
    "c.base1_only()\n",
    "c.base2_only()"
   ]
  },
  {
   "cell_type": "code",
   "execution_count": null,
   "metadata": {},
   "outputs": [],
   "source": [
    "# Example 2\n",
    "\n",
    "class A():\n",
    "    def __init__(self, spam):\n",
    "        self.spam = spam\n",
    "        \n",
    "class B(A):\n",
    "    def __init__(self, eggs, spam='spam'):\n",
    "        super().__init__(spam)\n",
    "        self.eggs = eggs\n",
    "\n",
    "b = B(eggs='eggs')\n",
    "print(b.spam)\n",
    "print(b.eggs)"
   ]
  },
  {
   "cell_type": "markdown",
   "metadata": {},
   "source": [
    "Diamond inheritance"
   ]
  },
  {
   "cell_type": "code",
   "execution_count": null,
   "metadata": {},
   "outputs": [],
   "source": [
    "# Example 3 \n",
    "class A:\n",
    "    def itsme(self):\n",
    "        print(\"I'm A\")\n",
    "\n",
    "class B1(A):\n",
    "    def itsme(self):\n",
    "        print(\"I'm B1\")\n",
    "\n",
    "class B2(A):\n",
    "    def itsme(self):\n",
    "        print(\"I'm B2\")\n",
    "\n",
    "class C(B1,B2):\n",
    "    pass"
   ]
  },
  {
   "cell_type": "code",
   "execution_count": null,
   "metadata": {},
   "outputs": [],
   "source": [
    "c = C()\n",
    "c.itsme()\n",
    "print(C.mro())\n",
    "print(help(C))"
   ]
  },
  {
   "cell_type": "markdown",
   "metadata": {},
   "source": [
    "super should be called \"the next in line\"\n",
    "\n",
    "super calls your children parents\n",
    "\n",
    "solution:MRO uses linealization\n",
    "\n",
    "use help(your_class)"
   ]
  },
  {
   "cell_type": "markdown",
   "metadata": {},
   "source": [
    "Python é compilado?\n",
    "`__pycache__`\n",
    "pyc file -> byte code\n"
   ]
  },
  {
   "cell_type": "markdown",
   "metadata": {},
   "source": [
    "### Métodos privados:\n",
    "\n",
    "Python não impede o acesso aos atributos de uma classe.\n",
    "\n",
    "Por convenção um método privado tem um underscore `_` no início do nome.\n",
    "\n"
   ]
  },
  {
   "cell_type": "code",
   "execution_count": null,
   "metadata": {},
   "outputs": [],
   "source": [
    "class Spam:\n",
    "    def _generate_spam(self, n):\n",
    "        return ','.join(['Spam' for _ in range(n)])\n",
    "\n",
    "    def __private_method(self):\n",
    "        print(\"I'm  a private method\")\n",
    "\n",
    "    def __private_method2_(self):\n",
    "        print(\"I'm  a private method2\")"
   ]
  },
  {
   "cell_type": "code",
   "execution_count": null,
   "metadata": {},
   "outputs": [],
   "source": [
    "s = Spam()\n",
    "s._generate_spam(5)"
   ]
  },
  {
   "cell_type": "code",
   "execution_count": null,
   "metadata": {},
   "outputs": [],
   "source": [
    "s.__private_method()"
   ]
  },
  {
   "cell_type": "markdown",
   "metadata": {},
   "source": [
    "Mesmo com *dunder* podemos acessar o método privado usando o *name mangling*:"
   ]
  },
  {
   "cell_type": "code",
   "execution_count": null,
   "metadata": {},
   "outputs": [],
   "source": [
    "dir(s)"
   ]
  },
  {
   "cell_type": "code",
   "execution_count": null,
   "metadata": {},
   "outputs": [],
   "source": [
    "s._Spam__private_method()"
   ]
  },
  {
   "cell_type": "code",
   "execution_count": null,
   "metadata": {},
   "outputs": [],
   "source": [
    "s._Spam__private_method2_()"
   ]
  },
  {
   "cell_type": "markdown",
   "metadata": {},
   "source": [
    "## Acabou!?\n",
    "\n",
    "Sim, o hands-on acabou.\n",
    "\n",
    "Para ganhar fluência com Python, nada melhor do que a prática.\n",
    "\n",
    "Sugestões:\n",
    "\n",
    "- Use um editor da sua preferência que tenha um bom suporte a Python; eu recomendo Pycharm pois ele tem várias ferramentas que ajudam na formatação, debugging e a maioria das funções tem shortcuts e você não perde tempo usando o mouse. A produtividade é diretamente proporcional conforme você aprende a usar as suas ferramentas.\n",
    "\n",
    "- Use virtualenvwrapper pois a separação de versões de Python evita problemas com o Python instalado na sua máquina e possibilita testes com versões diferentes dos pacotes que você usa no projeto.\n",
    "\n",
    "- Sites como o [HackerRank](https://www.hackerrank.com/),[Codewars](https://codewars.com), [CheckIO](https://checkio.org/) e [PyBytes](https://codechalleng.es/) oferecem exercícios gratuitos. Assim você pode ganhar fluência usando a estrutura de dados.\n"
   ]
  }
 ],
 "metadata": {
  "kernelspec": {
   "display_name": "Python 3",
   "language": "python",
   "name": "python3"
  },
  "language_info": {
   "codemirror_mode": {
    "name": "ipython",
    "version": 3
   },
   "file_extension": ".py",
   "mimetype": "text/x-python",
   "name": "python",
   "nbconvert_exporter": "python",
   "pygments_lexer": "ipython3",
   "version": "3.6.5"
  }
 },
 "nbformat": 4,
 "nbformat_minor": 2
}
