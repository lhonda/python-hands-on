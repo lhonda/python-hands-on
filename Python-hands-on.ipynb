{
 "cells": [
  {
   "cell_type": "markdown",
   "metadata": {},
   "source": [
    "# Python hands-on\n",
    "\n",
    "## Introduction\n",
    "\n",
    "This hands-on objective is to get a big picture of Python and we'll use `ipython` interpreter.\n",
    "Please make sure you setup your environment, following the instructions below.\n",
    "Basically we'll copy this notebook cell contents to `ipython`, check the results and learn something new.\n",
    "\n",
    "## Environment\n",
    "\n",
    "Our environment requires the following packages:\n",
    "\n",
    "1. pyenv\n",
    "2. virtualenvwrapper\n",
    "3. autoenv\n",
    "4. ipython\n",
    "\n",
    "### Environment setup:\n",
    "\n",
    "1. Install [pyenv](https://github.com/pyenv/pyenv#basic-github-checkout)\n"
   ]
  },
  {
   "cell_type": "markdown",
   "metadata": {},
   "source": [
    "`git clone https://github.com/pyenv/pyenv.git ~/.pyenv\n",
    "echo 'export PYENV_ROOT=\"$HOME/.pyenv\"' >> ~/.bash_profile\n",
    "echo 'export PATH=\"$PYENV_ROOT/bin:$PATH\"' >> ~/.bash_profile\n",
    "echo -e 'if command -v pyenv 1>/dev/null 2>&1; then\\n  eval \"$(pyenv init -)\"\\nfi' >> ~/.bash_profile`"
   ]
  },
  {
   "cell_type": "markdown",
   "metadata": {},
   "source": [
    "Open a new terminal and check if PYENV_ROOT is exported."
   ]
  },
  {
   "cell_type": "markdown",
   "metadata": {},
   "source": [
    "2. Install Python version 3.6.5 using pyenv."
   ]
  },
  {
   "cell_type": "markdown",
   "metadata": {},
   "source": [
    "`pyenv install 3.6.5`"
   ]
  },
  {
   "cell_type": "markdown",
   "metadata": {},
   "source": [
    "3. Install autoenv and virtualenvwrapper.\n"
   ]
  },
  {
   "cell_type": "markdown",
   "metadata": {},
   "source": [
    "pip install autoenv virtualenvwrapper -U"
   ]
  },
  {
   "cell_type": "markdown",
   "metadata": {},
   "source": [
    "After installing pyenv, autoenv and virtualenvwrapper, run a new terminal as these tools are initialized in .bash* (.bashrc, .bash_profile) files.\n",
    "`exec \"$SHELL\"`"
   ]
  },
  {
   "cell_type": "markdown",
   "metadata": {},
   "source": [
    "4. create a virtualenv named hands_on."
   ]
  },
  {
   "cell_type": "markdown",
   "metadata": {},
   "source": [
    "`mkvirtualenv hands_on`\n"
   ]
  },
  {
   "cell_type": "markdown",
   "metadata": {},
   "source": [
    "5. Install ipython."
   ]
  },
  {
   "cell_type": "markdown",
   "metadata": {},
   "source": [
    "`pip install ipython`"
   ]
  },
  {
   "cell_type": "markdown",
   "metadata": {},
   "source": [
    "## The interpreter\n",
    "\n",
    "Let's take a look at the Python shell:"
   ]
  },
  {
   "cell_type": "markdown",
   "metadata": {},
   "source": [
    "`python`"
   ]
  },
  {
   "cell_type": "markdown",
   "metadata": {},
   "source": [
    "You can execute several tasks in python shell, for example, add numbers, import modules or defining a new function.\n",
    "\n",
    "Exit the interpreter by hitting `ctrl-d` or execute `import sys;sys.exit()`"
   ]
  },
  {
   "cell_type": "markdown",
   "metadata": {},
   "source": [
    "We'll use `ipython` for this tutorial as it has unique features compared to vanilla Python."
   ]
  },
  {
   "cell_type": "markdown",
   "metadata": {},
   "source": [
    "`ipython`"
   ]
  },
  {
   "cell_type": "markdown",
   "metadata": {},
   "source": [
    "## Comment examples \n"
   ]
  },
  {
   "cell_type": "code",
   "execution_count": 1,
   "metadata": {},
   "outputs": [
    {
     "name": "stdout",
     "output_type": "stream",
     "text": [
      "comments\n",
      "comment\n",
      "comemnt\n",
      "\n"
     ]
    }
   ],
   "source": [
    "# comment\n",
    "print('''comments''')\n",
    "print(\"\"\"comment\"\"\")\n",
    "print(\"\"\"comemnt\n",
    "\"\"\")"
   ]
  },
  {
   "cell_type": "markdown",
   "metadata": {},
   "source": [
    "## Data types\n",
    "\n",
    "In `ipython` shell write down the following lines:\n"
   ]
  },
  {
   "cell_type": "code",
   "execution_count": 2,
   "metadata": {},
   "outputs": [
    {
     "name": "stdout",
     "output_type": "stream",
     "text": [
      "False\n"
     ]
    }
   ],
   "source": [
    "# boolean\n",
    "spam = True\n",
    "eggs = False\n",
    "\n",
    "print(eggs)\n"
   ]
  },
  {
   "cell_type": "code",
   "execution_count": 3,
   "metadata": {},
   "outputs": [
    {
     "name": "stdout",
     "output_type": "stream",
     "text": [
      "True\n",
      "True\n",
      "True\n",
      "True\n",
      "True\n"
     ]
    }
   ],
   "source": [
    "# None\n",
    "ham = None\n",
    "print(not None)\n",
    "print(not [])\n",
    "print(not 0)\n",
    "print(not '')\n",
    "print(not False)\n",
    "\n"
   ]
  },
  {
   "cell_type": "code",
   "execution_count": 4,
   "metadata": {},
   "outputs": [
    {
     "name": "stdout",
     "output_type": "stream",
     "text": [
      "2 1\n"
     ]
    }
   ],
   "source": [
    "# Operations with numbers\n",
    "2 + 3\n",
    "5 / 3\n",
    "5 // 3\n",
    "5 * 2\n",
    "5**2\n",
    "5**2 == 5 * 5\n",
    "a, b = 1,2\n",
    "a, b = b, a\n",
    "print(a, b)\n",
    "\n"
   ]
  },
  {
   "cell_type": "code",
   "execution_count": 22,
   "metadata": {},
   "outputs": [],
   "source": [
    "# strings\n",
    "spam = 'eggs'\n",
    "spam = \"eggs\"\n",
    "spam = 'spam isn\\'t eggs'\n",
    "spam = \"\"\"spam isn't eggs\"\"\"\n",
    "spam = '''spam isn't eggs'''\n"
   ]
  },
  {
   "cell_type": "code",
   "execution_count": 5,
   "metadata": {},
   "outputs": [
    {
     "data": {
      "text/plain": [
       "(1+2j)"
      ]
     },
     "execution_count": 5,
     "metadata": {},
     "output_type": "execute_result"
    }
   ],
   "source": [
    "#complex numbers\n",
    "a=5+3j + 1 -1j\n",
    "a.imag\n",
    "a.real\n",
    "a = complex(5,1)\n",
    "a.imag\n",
    "a.real\n",
    "complex('1+2j')\n"
   ]
  },
  {
   "cell_type": "code",
   "execution_count": 24,
   "metadata": {},
   "outputs": [
    {
     "ename": "ValueError",
     "evalue": "complex() arg is a malformed string",
     "output_type": "error",
     "traceback": [
      "\u001b[0;31m---------------------------------------------------------------------------\u001b[0m",
      "\u001b[0;31mValueError\u001b[0m                                Traceback (most recent call last)",
      "\u001b[0;32m<ipython-input-24-0353ee135738>\u001b[0m in \u001b[0;36m<module>\u001b[0;34m()\u001b[0m\n\u001b[0;32m----> 1\u001b[0;31m \u001b[0mcomplex\u001b[0m\u001b[0;34m(\u001b[0m\u001b[0;34m'1+ 2j'\u001b[0m\u001b[0;34m)\u001b[0m\u001b[0;34m\u001b[0m\u001b[0m\n\u001b[0m",
      "\u001b[0;31mValueError\u001b[0m: complex() arg is a malformed string"
     ]
    }
   ],
   "source": [
    "complex('1+ 2j')\n"
   ]
  },
  {
   "cell_type": "code",
   "execution_count": 6,
   "metadata": {},
   "outputs": [
    {
     "name": "stdout",
     "output_type": "stream",
     "text": [
      "SpamSpamSpamSpamSpam\n",
      "5\n",
      "1-2-3\n"
     ]
    }
   ],
   "source": [
    "# print examples\n",
    "print('Spam' * 5)\n",
    "print(spam * 5)\n",
    "print(1, 2, 3, sep='-')\n"
   ]
  },
  {
   "cell_type": "code",
   "execution_count": null,
   "metadata": {},
   "outputs": [],
   "source": [
    "%quickref\n",
    "%alias l ls -latr\n",
    "%save spam.py 1-13\n"
   ]
  },
  {
   "cell_type": "code",
   "execution_count": null,
   "metadata": {},
   "outputs": [],
   "source": [
    "print(spam[0])\n",
    "spam[:4]\n",
    "spams = spam.split()\n",
    "type(spams)\n",
    "spams[2]\n",
    "spams[1:]\n",
    "spams[-1]\n",
    "type(spam)\n",
    "len(spam)\n"
   ]
  },
  {
   "cell_type": "code",
   "execution_count": null,
   "metadata": {},
   "outputs": [],
   "source": [
    "spam[0] = 'eggs'  # string is immutable"
   ]
  },
  {
   "cell_type": "markdown",
   "metadata": {},
   "source": [
    "## Binary numbers"
   ]
  },
  {
   "cell_type": "code",
   "execution_count": null,
   "metadata": {},
   "outputs": [],
   "source": [
    "bin(0)\n",
    "bin(2)\n",
    "bin(3)\n",
    "bin(7)"
   ]
  },
  {
   "cell_type": "markdown",
   "metadata": {},
   "source": [
    "## Lists"
   ]
  },
  {
   "cell_type": "code",
   "execution_count": 8,
   "metadata": {},
   "outputs": [
    {
     "name": "stdout",
     "output_type": "stream",
     "text": [
      "16\n",
      "[2, 4, 6, 8, 10, 12, 14, 16, 18, 20, 22, 24, 26, 28, 'eggs']\n",
      "['ham', 2]\n",
      "[4, 6, 8, 10]\n",
      "['ham', 2, 4, 6, 8, 10, 12, 14, 16, 18, 20, 22, 24, 26, 28, 'eggs']\n"
     ]
    }
   ],
   "source": [
    "spams = ['spam', 'ham', 'eggs']\n",
    "spam = list(range(10))\n",
    "spam = list(range(0,10))\n",
    "spam = list(range(0,30,2))\n",
    "spam[0] = 'ham' # list is mutable\n",
    "spam.append('eggs')\n",
    "print(len(spam))\n",
    "print(spam[1:])\n",
    "print(spam[:2])\n",
    "print(spam[2:6])\n",
    "spammit = spam[:]\n",
    "print(spammit)"
   ]
  },
  {
   "cell_type": "markdown",
   "metadata": {},
   "source": [
    "### List methods"
   ]
  },
  {
   "cell_type": "code",
   "execution_count": null,
   "metadata": {},
   "outputs": [],
   "source": [
    "spams = ['spam', 'ham', 'eggs']\n",
    "spams.append('spam')\n",
    "spams.extend(['spam', 'eggs', 'spam','spam'])\n",
    "spams.insert(0,'spam')\n",
    "spams.remove('spam')\n",
    "spams.pop()\n",
    "spams\n",
    "spams.pop(1)\n",
    "spams\n",
    "spams.index('spam')\n",
    "spams.count('spam')\n",
    "spams.sort()\n",
    "sorted(spams)\n",
    "sorted(spams, reverse=True)\n",
    "spams.sort(reverse=True)\n",
    "spams.reverse()\n",
    "spams_copy = spams.copy()\n",
    "spams.clear()"
   ]
  },
  {
   "cell_type": "markdown",
   "metadata": {},
   "source": [
    "## Controles de fluxo:\n",
    "\n",
    "\n",
    "### For loop"
   ]
  },
  {
   "cell_type": "code",
   "execution_count": null,
   "metadata": {},
   "outputs": [],
   "source": [
    "words = 'spam ham eggs'.split()"
   ]
  },
  {
   "cell_type": "code",
   "execution_count": null,
   "metadata": {},
   "outputs": [],
   "source": [
    "# example 1\n",
    "for word in words:\n",
    "    print(word, len(word))"
   ]
  },
  {
   "cell_type": "code",
   "execution_count": null,
   "metadata": {},
   "outputs": [],
   "source": [
    "# example 2    \n",
    "for index, word in enumerate(words):\n",
    "    print(index, word, len(word))\n"
   ]
  },
  {
   "cell_type": "code",
   "execution_count": null,
   "metadata": {},
   "outputs": [],
   "source": [
    "# example 3    \n",
    "for x in range(10):\n",
    "    print(x)"
   ]
  },
  {
   "cell_type": "code",
   "execution_count": null,
   "metadata": {},
   "outputs": [],
   "source": [
    "# example 4, warning!\n",
    "for x in len(words):\n",
    "    print(x)"
   ]
  },
  {
   "cell_type": "code",
   "execution_count": null,
   "metadata": {},
   "outputs": [],
   "source": [
    "# example 5\n",
    "print(words)\n",
    "for x in words:\n",
    "    if 'shrubbery' in x:\n",
    "        print(x)\n",
    "else:\n",
    "    print('For loop is done.')"
   ]
  },
  {
   "cell_type": "markdown",
   "metadata": {},
   "source": [
    "### Pass:"
   ]
  },
  {
   "cell_type": "code",
   "execution_count": null,
   "metadata": {},
   "outputs": [],
   "source": [
    "def test_login_shoud_succeed():\n",
    "    pass\n",
    "\n",
    "class ContainerManager:\n",
    "    pass\n"
   ]
  },
  {
   "cell_type": "markdown",
   "metadata": {},
   "source": [
    "### While, continue e break"
   ]
  },
  {
   "cell_type": "code",
   "execution_count": null,
   "metadata": {},
   "outputs": [],
   "source": [
    "spams = ['spam', 'ham','eggs']\n",
    "index = 0\n",
    "while True:\n",
    "    if spams[index] == 'spam':\n",
    "        index +=1\n",
    "        continue\n",
    "    elif spams[index] == 'eggs':\n",
    "        break\n",
    "    else:\n",
    "        index +=1\n",
    "        print(spams[index])"
   ]
  },
  {
   "cell_type": "markdown",
   "metadata": {},
   "source": [
    "## Functions"
   ]
  },
  {
   "cell_type": "code",
   "execution_count": 25,
   "metadata": {},
   "outputs": [],
   "source": [
    "import random\n",
    "\n",
    "def get_spam(n):\n",
    "    \"\"\"Returns a list of spam\n",
    "    \n",
    "    This function returns a list of spams because King Arthur\n",
    "    thinks this is important.\n",
    "    \n",
    "    n: number of spam elements\n",
    "    returns: list of Holy Grail items\n",
    "    \"\"\"\n",
    "    result = []\n",
    "    for _ in range(n):\n",
    "        result.append(random.choice(['spam', 'eggs', 'Ni!', 'shrubbery', 'Patsy']))\n",
    "    return result"
   ]
  },
  {
   "cell_type": "code",
   "execution_count": null,
   "metadata": {},
   "outputs": [],
   "source": [
    "get_spam\n",
    "print(get_spam.__doc__)\n",
    "get_spam(10)"
   ]
  },
  {
   "cell_type": "code",
   "execution_count": null,
   "metadata": {},
   "outputs": [],
   "source": [
    "def get_spam_with_header(header, n=3):\n",
    "    return header + ' ' +  ' '.join(get_spam(n))\n",
    "\n",
    "def get_spam_with_dicts(header, n=3, **kwargs):\n",
    "    result = []\n",
    "    for k,v in kwargs.items():\n",
    "        result.append(f'{k}, {v}')\n",
    "\n",
    "    return ' '.join(result) + get_spam_with_header(header, n)"
   ]
  },
  {
   "cell_type": "code",
   "execution_count": null,
   "metadata": {},
   "outputs": [],
   "source": [
    "get_spam_with_header('Sir Arthur', n=5)"
   ]
  },
  {
   "cell_type": "code",
   "execution_count": null,
   "metadata": {},
   "outputs": [],
   "source": [
    "get_spam_with_dicts(header='King Arthur ',**{'a':'shrubberry!!'})"
   ]
  },
  {
   "cell_type": "markdown",
   "metadata": {},
   "source": [
    "Python initializes an empty list as a parameter the first time it loads the function definition(warning!!!)."
   ]
  },
  {
   "cell_type": "code",
   "execution_count": null,
   "metadata": {},
   "outputs": [],
   "source": [
    "def my_function(a, L=[]):\n",
    "    L.append(a)\n",
    "    return L\n",
    "\n",
    "print(my_function(1))\n",
    "print(my_function(2))\n",
    "print(my_function(3))\n",
    "\n",
    "def my_function(a, L=None):\n",
    "    if L is None:\n",
    "        L = []\n",
    "    L.append(a)\n",
    "    return L"
   ]
  },
  {
   "cell_type": "markdown",
   "metadata": {},
   "source": [
    "In cheeseshop function defined below we have three parameters (kind, arguments, keywords). Kind parameter is required, arguments e keywords are optional."
   ]
  },
  {
   "cell_type": "code",
   "execution_count": null,
   "metadata": {},
   "outputs": [],
   "source": [
    "def cheeseshop(kind, *arguments, **keywords):\n",
    "    print(\"-- Do you have any\", kind, \"?\")\n",
    "    print(\"-- I'm sorry, we're all out of\", kind)\n",
    "    for arg in arguments:\n",
    "        print(arg)\n",
    "    print(\"-\" * 40)\n",
    "    for kw in keywords:\n",
    "        print(kw, \":\", keywords[kw])\n"
   ]
  },
  {
   "cell_type": "code",
   "execution_count": null,
   "metadata": {},
   "outputs": [],
   "source": [
    "cheeseshop(\"Limburger\", \n",
    "           \"It's very runny, sir.\",\n",
    "           \"It's really very, VERY runny, sir.\",\n",
    "           shopkeeper=\"Michael Palin\",\n",
    "           client=\"John Cleese\",\n",
    "           sketch=\"Cheese Shop Sketch\")"
   ]
  },
  {
   "cell_type": "code",
   "execution_count": null,
   "metadata": {},
   "outputs": [],
   "source": [
    "def get_spam(ham, spam, eggs=2):\n",
    "    print(ham, spam, eggs)\n",
    "\n",
    "get_spam(1,2,3)"
   ]
  },
  {
   "cell_type": "code",
   "execution_count": null,
   "metadata": {},
   "outputs": [],
   "source": [
    "get_spam(ham=1,spam=2,eggs=3)"
   ]
  },
  {
   "cell_type": "code",
   "execution_count": null,
   "metadata": {},
   "outputs": [],
   "source": [
    "get_spam(spam=2,ham=1,eggs=3)"
   ]
  },
  {
   "cell_type": "markdown",
   "metadata": {},
   "source": [
    "### Type hints"
   ]
  },
  {
   "cell_type": "code",
   "execution_count": null,
   "metadata": {},
   "outputs": [],
   "source": [
    "def cheesy_talk(ham: str, eggs: str = 'eggs') -> str:\n",
    "    print(\"Annotations:\", f.__annotations__)\n",
    "    print(\"Arguments:\", ham, eggs)\n",
    "    return ham + ' and ' + eggs\n",
    "\n",
    "cheesy_talk('spam')\n",
    "\n",
    "print(f.__annotations__)"
   ]
  },
  {
   "cell_type": "markdown",
   "metadata": {},
   "source": [
    "## lambda\n",
    "\n",
    "Lambda creates anonymous function."
   ]
  },
  {
   "cell_type": "code",
   "execution_count": null,
   "metadata": {},
   "outputs": [],
   "source": [
    "pairs = [(1, 'one'), (2, 'two'), (3, 'three'), (4, 'four')]\n",
    "pairs.sort(key=lambda pair: pair[1])\n",
    "pairs"
   ]
  },
  {
   "cell_type": "markdown",
   "metadata": {},
   "source": [
    "## map\n",
    "\n",
    "Given a function and a collection, map returns a list of results generated by the function applied to each item of the collection."
   ]
  },
  {
   "cell_type": "code",
   "execution_count": null,
   "metadata": {},
   "outputs": [],
   "source": [
    "list(map(lambda x:2 * x, [1,2,3]))\n",
    "x = map(lambda x:2 * x, [1,2,3])\n",
    "i = iter(x)"
   ]
  },
  {
   "cell_type": "code",
   "execution_count": null,
   "metadata": {},
   "outputs": [],
   "source": [
    "next(i)"
   ]
  },
  {
   "cell_type": "markdown",
   "metadata": {},
   "source": [
    "## filter\n",
    "\n",
    "It filters out a collection using the given filter function."
   ]
  },
  {
   "cell_type": "code",
   "execution_count": null,
   "metadata": {},
   "outputs": [],
   "source": [
    "list(filter(lambda x:x % 2 == 0, [1,2,3]))"
   ]
  },
  {
   "cell_type": "markdown",
   "metadata": {},
   "source": [
    "## reduce\n",
    "\n",
    "Reduce the collection using the given function, meaning reduce function takes n and n + 1 elements, generates a result using the given function and applies the function using the result and n + 2 element until the whole collection is consumed."
   ]
  },
  {
   "cell_type": "code",
   "execution_count": null,
   "metadata": {},
   "outputs": [],
   "source": [
    "import functools\n",
    "\n",
    "def please_add(a,b):\n",
    "    return a + b\n",
    "\n",
    "functools.reduce(please_add, [1, 2, 3])"
   ]
  },
  {
   "cell_type": "markdown",
   "metadata": {},
   "source": [
    "## List Comprehensions, listcomps"
   ]
  },
  {
   "cell_type": "code",
   "execution_count": 1,
   "metadata": {},
   "outputs": [
    {
     "data": {
      "text/plain": [
       "[(2, 'a'), (2, 'b'), (2, 'c'), (2, 'd'), (2, 'e')]"
      ]
     },
     "execution_count": 1,
     "metadata": {},
     "output_type": "execute_result"
    }
   ],
   "source": [
    "## List Comprehensions, listcomps\n",
    "squares = []\n",
    "for x in range(10):\n",
    "    squares.append(x**2)\n",
    "\n",
    "squares = [x**2 for x in range(10)]\n",
    "\n",
    "squares = [x**2 for x in range(10) if x > 5]\n",
    "\n",
    "[(x, x**2) for x in range(6)]\n",
    "[(x, y) for x in range(3) for y in 'abcde']\n",
    "[(x, y) for x in range(3) for y in 'abcde' if x > 1]"
   ]
  },
  {
   "cell_type": "markdown",
   "metadata": {},
   "source": [
    "## del\n",
    "\n",
    "Remove an object from namespace."
   ]
  },
  {
   "cell_type": "code",
   "execution_count": null,
   "metadata": {},
   "outputs": [],
   "source": [
    "spams = ['spam', 'ham','eggs']\n",
    "del spams[0]\n",
    "spams\n",
    "\n",
    "del spams"
   ]
  },
  {
   "cell_type": "markdown",
   "metadata": {},
   "source": [
    "## tuples (Sequence)\n",
    "\n",
    "Immutable sequence."
   ]
  },
  {
   "cell_type": "code",
   "execution_count": null,
   "metadata": {},
   "outputs": [],
   "source": [
    "spams = ('spam', 'eggs')\n",
    "spams = ('spam', ('ham', 'eggs'))\n",
    "spams = 'ham',\n",
    "\n",
    "len(spams)"
   ]
  },
  {
   "cell_type": "markdown",
   "metadata": {},
   "source": [
    "Tuples are immutable:"
   ]
  },
  {
   "cell_type": "code",
   "execution_count": null,
   "metadata": {},
   "outputs": [],
   "source": [
    "spams[0] = 'ham'"
   ]
  },
  {
   "cell_type": "markdown",
   "metadata": {},
   "source": [
    "# unpacking"
   ]
  },
  {
   "cell_type": "code",
   "execution_count": null,
   "metadata": {},
   "outputs": [],
   "source": [
    "spam, ham, eggs = ('spam', 'ham', 'eggs')"
   ]
  },
  {
   "cell_type": "markdown",
   "metadata": {},
   "source": [
    "## sets"
   ]
  },
  {
   "cell_type": "code",
   "execution_count": null,
   "metadata": {},
   "outputs": [],
   "source": [
    "print(set('spamspamspamham'))\n",
    "print({'spamspamspam'})\n",
    "print({'spam','spam','spam'})\n",
    "\n",
    "spams = set(['spam', 'ham','ham', 'eggs'])"
   ]
  },
  {
   "cell_type": "markdown",
   "metadata": {},
   "source": [
    "## set comprehensions, setcomps"
   ]
  },
  {
   "cell_type": "code",
   "execution_count": null,
   "metadata": {},
   "outputs": [],
   "source": [
    "spams = ['spam', 'ham','eggs', 'eggs', 'Eggs', 'Spam', 'SPAM']\n",
    "spam_set = {item for item in spams}\n"
   ]
  },
  {
   "cell_type": "markdown",
   "metadata": {},
   "source": [
    "## dictionary, dict\n",
    "\n",
    "*Warning*, the example below uses `''` and `None` as keys. It is not recommended to use them as keys, we use them here to ilustrate that dictiionary keys require `__hash__` method. Please check that `''` and `None` has `__hash__` method and compare with `__hash__` method of a list."
   ]
  },
  {
   "cell_type": "code",
   "execution_count": null,
   "metadata": {},
   "outputs": [],
   "source": [
    "organics = {\n",
    "    '': '',\n",
    "    None: '2',\n",
    "    'king arthur': \"You're a loony!\",\n",
    "    'black knight': \"\"\"The Black Knights always triumph!\"\"\",\n",
    "    314: ':-0',\n",
    "}\n",
    "\n",
    "print(organics)\n",
    "crew = dict(captain='Janeway', commander='Chakotay', security_officer='Tuvok', borg='Seven of Nine')\n",
    "print(crew)"
   ]
  },
  {
   "cell_type": "markdown",
   "metadata": {},
   "source": [
    "## dict comprehensions, dictcomps"
   ]
  },
  {
   "cell_type": "code",
   "execution_count": null,
   "metadata": {},
   "outputs": [],
   "source": [
    "my_dict = {x: x**2 for x in (2, 4, 6)}\n",
    "print(my_dict)"
   ]
  },
  {
   "cell_type": "markdown",
   "metadata": {},
   "source": [
    "## dict methods and loop examples"
   ]
  },
  {
   "cell_type": "code",
   "execution_count": null,
   "metadata": {},
   "outputs": [],
   "source": [
    "list(organics.keys())"
   ]
  },
  {
   "cell_type": "code",
   "execution_count": null,
   "metadata": {},
   "outputs": [],
   "source": [
    "for key, value in organics.items():\n",
    "    print(key, value,sep=':')\n",
    "\n",
    "for k, v in organics.items():\n",
    "    print(k, v, sep=':')"
   ]
  },
  {
   "cell_type": "code",
   "execution_count": null,
   "metadata": {},
   "outputs": [],
   "source": [
    "crew = dict(captain='Janeway', commander='Chakotay', security_officer='Tuvok', borg='Seven of Nine')\n",
    "print(sorted(crew))\n",
    "print(sorted(crew, key=lambda d:crew[d]))"
   ]
  },
  {
   "cell_type": "code",
   "execution_count": null,
   "metadata": {},
   "outputs": [],
   "source": [
    "for k in crew:\n",
    "    print(k)\n",
    "\n",
    "for v in crew.values():\n",
    "    print(v)"
   ]
  },
  {
   "cell_type": "code",
   "execution_count": null,
   "metadata": {},
   "outputs": [],
   "source": [
    "for i,k in enumerate(crew):\n",
    "    print(i, k, sep=') ')\n",
    "\n",
    "for i,k in enumerate(crew, 1000):\n",
    "    print(i, k, sep=') ')"
   ]
  },
  {
   "cell_type": "code",
   "execution_count": null,
   "metadata": {},
   "outputs": [],
   "source": [
    "questions = ['name', 'quest', 'favorite color']\n",
    "answers = ['lancelot', 'the holy grail', 'blue']\n",
    "for q, a in zip(questions, answers):\n",
    "    print('What is your {0}?  It is {1}.'.format(q, a))"
   ]
  },
  {
   "cell_type": "markdown",
   "metadata": {},
   "source": [
    "## modules\n",
    "\n",
    "A module is a file which contains functions and classes. The variable `__name__` has the module's name. `__name__` has a value of `__main__` if the module is executed from the command line."
   ]
  },
  {
   "cell_type": "code",
   "execution_count": null,
   "metadata": {},
   "outputs": [],
   "source": [
    "import sys, os\n",
    "import pandas as pd\n",
    "import json\n",
    "from json import loads, dumps\n",
    "from json import * # not recommended"
   ]
  },
  {
   "cell_type": "markdown",
   "metadata": {},
   "source": [
    "\n",
    "Create the file`httpbin_manager.py` with the following content:"
   ]
  },
  {
   "cell_type": "code",
   "execution_count": null,
   "metadata": {},
   "outputs": [],
   "source": [
    "#!/usr/bin/env python\n",
    "\n",
    "import sys \n",
    "import requests\n",
    "\n",
    "\n",
    "def get_uuid(n): \n",
    "    result = [] \n",
    "    for _ in range(n): \n",
    "        resp = requests.get('https://httpbin.org/uuid') \n",
    "        result.append(resp.json()['uuid'])\n",
    "\n",
    "    return result\n",
    "\n",
    "\n",
    "if __name__ == \"__main__\": \n",
    "    print(get_uuid(int(sys.argv[1])))"
   ]
  },
  {
   "cell_type": "code",
   "execution_count": null,
   "metadata": {},
   "outputs": [],
   "source": [
    "python httpbin_manager.py 7"
   ]
  },
  {
   "cell_type": "code",
   "execution_count": null,
   "metadata": {},
   "outputs": [],
   "source": [
    "import sys\n",
    "print(sys.ps1)\n",
    "sys.ps1 = 'please state the maedical emergency ' + sys.ps1"
   ]
  },
  {
   "cell_type": "markdown",
   "metadata": {},
   "source": [
    "## standard modules\n",
    "\n",
    "- sys\n",
    "- os\n",
    "- antigravity\n",
    "- ipaddress\n",
    "- webbrowser"
   ]
  },
  {
   "cell_type": "code",
   "execution_count": null,
   "metadata": {},
   "outputs": [],
   "source": [
    "import webbrowser\n",
    "\n",
    "webbrowser.open_new_tab('https://xkcd.com/378/')"
   ]
  },
  {
   "cell_type": "markdown",
   "metadata": {},
   "source": [
    "# dir\n",
    "\n",
    "Returns a list of names of the current namespace or returns a list of an object's attributes."
   ]
  },
  {
   "cell_type": "code",
   "execution_count": null,
   "metadata": {},
   "outputs": [],
   "source": [
    "dir(sys)\n",
    "dir()"
   ]
  },
  {
   "cell_type": "markdown",
   "metadata": {},
   "source": [
    "## packages\n",
    "\n",
    "Packages are a set of modules with `__init__.py`\n",
    "\n",
    "`__init__.py` file might contain initialization code for the package, for example, the value for `__all__` attribute (list of public functions for `import *`  statement).\n",
    "\n",
    "`__path__` -> directory list which have `__init__.py` files to be loaded.\n"
   ]
  },
  {
   "cell_type": "markdown",
   "metadata": {},
   "source": [
    "## inputs/outputs\n",
    "\n",
    "Inputs and outputs.\n",
    "\n",
    "stdin (0), stdout (1), stderr(2)"
   ]
  },
  {
   "cell_type": "markdown",
   "metadata": {},
   "source": [
    "`!ls -l non-existent-file > error 2>&1`"
   ]
  },
  {
   "cell_type": "markdown",
   "metadata": {},
   "source": [
    "## strings"
   ]
  },
  {
   "cell_type": "code",
   "execution_count": null,
   "metadata": {},
   "outputs": [],
   "source": [
    "print?\n",
    "\n",
    "import string\n",
    "\n",
    "template = 'WHAT is the $object of an $bird?'\n",
    "my_template = string.Template(template)\n",
    "my_template.substitute({'bird': 'unladden swallow', 'object': 'airspeed velocity'})\n",
    "my_template.safe_substitute({'bird': 'unladden swallow'})\n"
   ]
  },
  {
   "cell_type": "code",
   "execution_count": null,
   "metadata": {},
   "outputs": [],
   "source": [
    "my_template.substitute({'bird': 'unladden swallow'})"
   ]
  },
  {
   "cell_type": "markdown",
   "metadata": {},
   "source": [
    "How to convert values to string?\n",
    "\n",
    "str: generates string meant `for humans`; if there is no str definition then it calls `repr` function by default.\n",
    "\n",
    "repr: generates string for python interpreter (raises SyntaxError if there is no representation as string)."
   ]
  },
  {
   "cell_type": "code",
   "execution_count": null,
   "metadata": {},
   "outputs": [],
   "source": [
    "str(1), repr(1), str(1)==repr(1)\n",
    "str((1,)), repr((1,)), str((1,))==repr((1,))\n",
    "str([1]), repr([1]),str([1])==repr([1])\n",
    "str({1:1}), repr({1:1}),str({1:1})==repr({1:1})\n",
    "str('1'), repr('1'),str('1')==repr('1')"
   ]
  },
  {
   "cell_type": "markdown",
   "metadata": {},
   "source": [
    "Formatting numbers:"
   ]
  },
  {
   "cell_type": "code",
   "execution_count": null,
   "metadata": {},
   "outputs": [],
   "source": [
    "from math import pi\n",
    "\n",
    "for n in range(10):\n",
    "    print('{:4.2f} {:6.4f}'.format(pi, pi * n))\n",
    "\n",
    "'12'.zfill(5)\n",
    "'-3.14'.zfill(7)\n",
    "'3.14159265359'.zfill(5)\n",
    "str(pi).zfill(20)\n",
    "'{0} and {1}'.format('spam', 'eggs')\n",
    "'{1} and {0}'.format('spam', 'eggs')\n",
    "'In order to pass through these {place}... You must find... {treasure}!!!'.format(**{'place': 'woods', 'treasure': 'A SHRUBBERRY!'})\n",
    "'In order to pass through these {place}... You must find... {treasure}!!!'.format(place='woods',treasure='A SHRUBBERRY!')\n",
    "'The value of PI is approximately %5.3f.' % pi"
   ]
  },
  {
   "cell_type": "markdown",
   "metadata": {},
   "source": [
    "### f-strings\n",
    "\n",
    "It is a new feature of Python 3.6 and it is the fastest way to render a string according to [this post](https://cito.github.io/blog/f-strings/)."
   ]
  },
  {
   "cell_type": "code",
   "execution_count": 27,
   "metadata": {},
   "outputs": [
    {
     "name": "stdout",
     "output_type": "stream",
     "text": [
      "There is a lot of spam,spam,spam in this video: https://www.youtube.com/watch?v=anwy2MPT5RE\n"
     ]
    }
   ],
   "source": [
    "spam = ','.join(['spam'] * 3)\n",
    "\n",
    "print(f'There is a lot of {spam} in this video: https://www.youtube.com/watch?v=anwy2MPT5RE')\n"
   ]
  },
  {
   "cell_type": "markdown",
   "metadata": {},
   "source": [
    "## Files\n",
    "\n",
    "Let's choose a [random csv](https://www.kaggle.com/epattaro/brazils-house-of-deputies-reimbursements).\n",
    "\n",
    "Let's read the csv file:"
   ]
  },
  {
   "cell_type": "code",
   "execution_count": null,
   "metadata": {},
   "outputs": [],
   "source": [
    "file_handler = open('deputies_dataset.csv')\n",
    "file_handler = open('deputies_dataset.csv', 'r')\n",
    "file_handler.close()\n",
    "groups = open('/etc/group').read()\n",
    "line = open('/etc/group').readline()\n",
    "lines = open('/etc/group').readlines()"
   ]
  },
  {
   "cell_type": "markdown",
   "metadata": {},
   "source": [
    "Write/create a file:"
   ]
  },
  {
   "cell_type": "code",
   "execution_count": null,
   "metadata": {},
   "outputs": [],
   "source": [
    "fh = open('my_dataset.csv', 'w')\n",
    "fh = open('my_dataset.csv', 'a')"
   ]
  },
  {
   "cell_type": "markdown",
   "metadata": {},
   "source": [
    "Read and write the file:"
   ]
  },
  {
   "cell_type": "code",
   "execution_count": null,
   "metadata": {},
   "outputs": [],
   "source": [
    "fh = open('my_dataset.csv', 'r+')"
   ]
  },
  {
   "cell_type": "markdown",
   "metadata": {},
   "source": [
    "Read a binary file:\n",
    "\n",
    "Visit the following link and check the png header.\n",
    "\n",
    "http://www.libpng.org/pub/png/spec/1.2/PNG-Structure.html"
   ]
  },
  {
   "cell_type": "code",
   "execution_count": null,
   "metadata": {},
   "outputs": [],
   "source": [
    "fh = open('python-logo.png', 'rb')\n",
    "png_bytes = fh.read(8)\n",
    "for x in png_bytes:\n",
    "    print('%d' % x, end=' ')"
   ]
  },
  {
   "cell_type": "markdown",
   "metadata": {},
   "source": [
    "Readline function reads until it finds out a line break(`\\n, \\r, \\r\\n`) for text and binary files."
   ]
  },
  {
   "cell_type": "code",
   "execution_count": null,
   "metadata": {},
   "outputs": [],
   "source": [
    "fh.seek(0)\n",
    "print(fh.readline())\n",
    "print(fh.readline())\n",
    "fh.close()"
   ]
  },
  {
   "cell_type": "markdown",
   "metadata": {},
   "source": [
    "Write to a file:\n"
   ]
  },
  {
   "cell_type": "code",
   "execution_count": null,
   "metadata": {},
   "outputs": [],
   "source": [
    "fh=open('my_text_file', 'w')\n",
    "fh.write('You must now cut down the tallest tree in the forest... With... A HERRING!!!!!')\n",
    "fh.close()"
   ]
  },
  {
   "cell_type": "markdown",
   "metadata": {},
   "source": [
    "Using `with` context manager:\n"
   ]
  },
  {
   "cell_type": "code",
   "execution_count": null,
   "metadata": {},
   "outputs": [],
   "source": [
    "content = None\n",
    "import os\n",
    "filename_full_path = os.path.join(os.getcwd(), 'python-logo.png')\n",
    "with open(filename_full_path, 'rb') as fh:\n",
    "    content = fh.read()\n",
    "\n",
    "content"
   ]
  },
  {
   "cell_type": "markdown",
   "metadata": {},
   "source": [
    "## json\n",
    "\n",
    "JavaScript Object Notation\n",
    "\n",
    "Serialize: convert data structure to string.\n",
    "\n",
    "Deserialize: convert string to data structure.\n"
   ]
  },
  {
   "cell_type": "code",
   "execution_count": null,
   "metadata": {},
   "outputs": [],
   "source": [
    "import json\n",
    "json.dump?\n",
    "json.dumps??\n",
    "\n",
    "fh= open('myjson', 'r+')\n",
    "dict_data = {\n",
    "    'Old Crone to Whom King Arthur Said \"Ni--\"': 'Who sent you?',\n",
    "    'King Arthur': 'The Knights Who Say Ni.',\n",
    "    }\n",
    "serialized_json = json.dumps(dict_data)\n",
    "json.loads(serialized_json)\n",
    "\n",
    "json.dump(serialized_json, fh)\n",
    "fh.seek(0)\n",
    "json.load(fh)\n",
    "fh.close()"
   ]
  },
  {
   "cell_type": "markdown",
   "metadata": {},
   "source": [
    "## Errors and Exceptions\n",
    "\n",
    "Sintax errors and exceptions:"
   ]
  },
  {
   "cell_type": "code",
   "execution_count": null,
   "metadata": {},
   "outputs": [],
   "source": [
    "print 'this is wrong!'"
   ]
  },
  {
   "cell_type": "markdown",
   "metadata": {},
   "source": [
    "Exceptions:"
   ]
  },
  {
   "cell_type": "code",
   "execution_count": null,
   "metadata": {},
   "outputs": [],
   "source": [
    "1/0\n",
    "print(eggs_with_ham)\n",
    "'pi' + pi"
   ]
  },
  {
   "cell_type": "markdown",
   "metadata": {},
   "source": [
    "## Exception handling\n",
    "\n",
    "Example 1: try, except, finally"
   ]
  },
  {
   "cell_type": "code",
   "execution_count": null,
   "metadata": {},
   "outputs": [],
   "source": [
    "try:\n",
    "    filename = 'non-existent-file'\n",
    "    fh = open(filename)\n",
    "except FileNotFoundError:\n",
    "    print(f'Cannot open file {filename}')\n",
    "finally:\n",
    "    fh.close()\n",
    "\n",
    "print(fh.closed)"
   ]
  },
  {
   "cell_type": "markdown",
   "metadata": {},
   "source": [
    "Example 2: exceptions are not specified. \n",
    "\n",
    "It is a common practice to capture exceptions related to the operations you run inside the `try` block.\n",
    "\n",
    "To figure out which exceptions are related to your functions you can read your function's docsctring or simulate errors then you'll see exceptions being raised."
   ]
  },
  {
   "cell_type": "code",
   "execution_count": null,
   "metadata": {},
   "outputs": [],
   "source": [
    "try:\n",
    "    filename = 'non-existent-file'\n",
    "    with open(filename) as fh:\n",
    "        fh.read()\n",
    "except:  # warning!\n",
    "    print(f'Cannot open file {filename}')"
   ]
  },
  {
   "cell_type": "markdown",
   "metadata": {},
   "source": [
    "Example 3: handling exceptions"
   ]
  },
  {
   "cell_type": "code",
   "execution_count": null,
   "metadata": {},
   "outputs": [],
   "source": [
    "while True:\n",
    "    try:\n",
    "        x = int(input(\"Please enter a number: \"))\n",
    "        break\n",
    "    except (ValueError, TypeError):\n",
    "        print(\"Oops!  That was no valid number.  Try again...\")\n",
    "    except ZeroDivisionError:\n",
    "        print('Zero division error :-0')"
   ]
  },
  {
   "cell_type": "markdown",
   "metadata": {},
   "source": [
    "Example 4: raise exceptions explicitly"
   ]
  },
  {
   "cell_type": "code",
   "execution_count": null,
   "metadata": {},
   "outputs": [],
   "source": [
    "spam = 'eggs'\n",
    "if spam == 'eggs':\n",
    "    raise ValueError('Ni!')"
   ]
  },
  {
   "cell_type": "markdown",
   "metadata": {},
   "source": [
    "Example 5: using `else` statement with `try`"
   ]
  },
  {
   "cell_type": "code",
   "execution_count": 29,
   "metadata": {},
   "outputs": [
    {
     "name": "stdout",
     "output_type": "stream",
     "text": [
      "deputies_dataset.csv has 3014904 lines\n",
      "cannot open non-existent-file\n"
     ]
    }
   ],
   "source": [
    "for arg in ['deputies_dataset.csv', 'non-existent-file']:\n",
    "    try:\n",
    "        f = open(arg, 'r')\n",
    "    except OSError:\n",
    "        print('cannot open', arg)\n",
    "    else:\n",
    "        print(arg, 'has', len(f.readlines()), 'lines')\n",
    "        f.close()"
   ]
  },
  {
   "cell_type": "markdown",
   "metadata": {},
   "source": [
    "Example 6: user defined exceptions"
   ]
  },
  {
   "cell_type": "code",
   "execution_count": null,
   "metadata": {},
   "outputs": [],
   "source": [
    "class InvalidLogin(Exception):\n",
    "    pass\n",
    "\n",
    "class UserNotFound(Exception):\n",
    "    def __init__(self, user):\n",
    "        self.user = user\n"
   ]
  },
  {
   "cell_type": "code",
   "execution_count": null,
   "metadata": {},
   "outputs": [],
   "source": [
    "raise InvalidLogin()"
   ]
  },
  {
   "cell_type": "code",
   "execution_count": null,
   "metadata": {},
   "outputs": [],
   "source": [
    "raise UserNotFound()"
   ]
  },
  {
   "cell_type": "markdown",
   "metadata": {},
   "source": [
    "Example 7: `else` and `finally` execution order\n",
    "\n",
    "\n",
    "`else` block is executed if there is no raised exception.\n",
    "\n",
    "\n",
    "`finally` is always executed. "
   ]
  },
  {
   "cell_type": "code",
   "execution_count": 31,
   "metadata": {},
   "outputs": [],
   "source": [
    "def divide(x, y):\n",
    "    try:\n",
    "        result = x / y\n",
    "    except ZeroDivisionError:\n",
    "        print(\"division by zero!\")\n",
    "    else:\n",
    "        print(\"result is\", result)\n",
    "    finally:\n",
    "        print(\"executing finally clause\")"
   ]
  },
  {
   "cell_type": "code",
   "execution_count": 32,
   "metadata": {},
   "outputs": [
    {
     "name": "stdout",
     "output_type": "stream",
     "text": [
      "result is 2.0\n",
      "executing finally clause\n"
     ]
    }
   ],
   "source": [
    "divide(2, 1)"
   ]
  },
  {
   "cell_type": "code",
   "execution_count": 33,
   "metadata": {},
   "outputs": [
    {
     "name": "stdout",
     "output_type": "stream",
     "text": [
      "division by zero!\n",
      "executing finally clause\n"
     ]
    }
   ],
   "source": [
    "divide(2, 0)"
   ]
  },
  {
   "cell_type": "code",
   "execution_count": 34,
   "metadata": {},
   "outputs": [
    {
     "name": "stdout",
     "output_type": "stream",
     "text": [
      "executing finally clause\n"
     ]
    },
    {
     "ename": "TypeError",
     "evalue": "unsupported operand type(s) for /: 'str' and 'str'",
     "output_type": "error",
     "traceback": [
      "\u001b[0;31m---------------------------------------------------------------------------\u001b[0m",
      "\u001b[0;31mTypeError\u001b[0m                                 Traceback (most recent call last)",
      "\u001b[0;32m<ipython-input-34-3ad63cdb9b7d>\u001b[0m in \u001b[0;36m<module>\u001b[0;34m()\u001b[0m\n\u001b[0;32m----> 1\u001b[0;31m \u001b[0mdivide\u001b[0m\u001b[0;34m(\u001b[0m\u001b[0;34m\"2\"\u001b[0m\u001b[0;34m,\u001b[0m \u001b[0;34m\"1\"\u001b[0m\u001b[0;34m)\u001b[0m\u001b[0;34m\u001b[0m\u001b[0m\n\u001b[0m",
      "\u001b[0;32m<ipython-input-31-fb375c737bea>\u001b[0m in \u001b[0;36mdivide\u001b[0;34m(x, y)\u001b[0m\n\u001b[1;32m      1\u001b[0m \u001b[0;32mdef\u001b[0m \u001b[0mdivide\u001b[0m\u001b[0;34m(\u001b[0m\u001b[0mx\u001b[0m\u001b[0;34m,\u001b[0m \u001b[0my\u001b[0m\u001b[0;34m)\u001b[0m\u001b[0;34m:\u001b[0m\u001b[0;34m\u001b[0m\u001b[0m\n\u001b[1;32m      2\u001b[0m     \u001b[0;32mtry\u001b[0m\u001b[0;34m:\u001b[0m\u001b[0;34m\u001b[0m\u001b[0m\n\u001b[0;32m----> 3\u001b[0;31m         \u001b[0mresult\u001b[0m \u001b[0;34m=\u001b[0m \u001b[0mx\u001b[0m \u001b[0;34m/\u001b[0m \u001b[0my\u001b[0m\u001b[0;34m\u001b[0m\u001b[0m\n\u001b[0m\u001b[1;32m      4\u001b[0m     \u001b[0;32mexcept\u001b[0m \u001b[0mZeroDivisionError\u001b[0m\u001b[0;34m:\u001b[0m\u001b[0;34m\u001b[0m\u001b[0m\n\u001b[1;32m      5\u001b[0m         \u001b[0mprint\u001b[0m\u001b[0;34m(\u001b[0m\u001b[0;34m\"division by zero!\"\u001b[0m\u001b[0;34m)\u001b[0m\u001b[0;34m\u001b[0m\u001b[0m\n",
      "\u001b[0;31mTypeError\u001b[0m: unsupported operand type(s) for /: 'str' and 'str'"
     ]
    }
   ],
   "source": [
    "divide(\"2\", \"1\")"
   ]
  },
  {
   "cell_type": "code",
   "execution_count": 35,
   "metadata": {},
   "outputs": [],
   "source": [
    "def divide(x, y):\n",
    "    try:\n",
    "        result = x / y\n",
    "    except ZeroDivisionError:\n",
    "        print(\"division by zero!\")\n",
    "    except TypeError:\n",
    "        print('Invalid input, please input numbers to divide function.')\n",
    "    else:\n",
    "        print(\"result is\", result)\n",
    "    finally:\n",
    "        print(\"executing finally clause\")"
   ]
  },
  {
   "cell_type": "code",
   "execution_count": 36,
   "metadata": {},
   "outputs": [
    {
     "name": "stdout",
     "output_type": "stream",
     "text": [
      "Invalid input, please input numbers to divide function.\n",
      "executing finally clause\n"
     ]
    }
   ],
   "source": [
    "divide(\"2\", \"1\")"
   ]
  },
  {
   "cell_type": "markdown",
   "metadata": {},
   "source": [
    "\n",
    "## classes\n",
    "\n",
    "Namespaces are mappings (dictionaries) and they contain name as keys and objects as values."
   ]
  },
  {
   "cell_type": "code",
   "execution_count": 37,
   "metadata": {},
   "outputs": [],
   "source": [
    "def print_locals():\n",
    "    spam = 'eggs'\n",
    "    spams = ['eggs', 'ham', 'spam']\n",
    "    print(locals())"
   ]
  },
  {
   "cell_type": "code",
   "execution_count": 38,
   "metadata": {},
   "outputs": [
    {
     "data": {
      "text/plain": [
       "{'__name__': '__main__',\n",
       " '__doc__': 'Automatically created module for IPython interactive environment',\n",
       " '__package__': None,\n",
       " '__loader__': None,\n",
       " '__spec__': None,\n",
       " '__builtin__': <module 'builtins' (built-in)>,\n",
       " '__builtins__': <module 'builtins' (built-in)>,\n",
       " '_ih': ['',\n",
       "  \"words = 'spam ham eggs'.split()\\n\\n# example 1\\nfor word in words:\\n    print(word, len(word))\\n\\n# example 2    \\nfor index, word in enumerate(words):\\n    print(index, word, len(word))\\n\\n# example 3    \\nfor x in range(10):\\n    print(x)\\n\\n# example 4\\nfor x in len(words):\\n    print(x)\\n\\n# example 5\\nfor x in words:\\n    if 'shrubbery' in x:\\n        print(x)\\nelse:\\n    print('For loop is done.')\",\n",
       "  \"words = 'spam ham eggs'.split()\\n\\n# example 1\\nfor word in words:\\n    print(word, len(word))\\n\\n# example 2    \\nfor index, word in enumerate(words):\\n    print(index, word, len(word))\\n\\n# example 3    \\nfor x in range(10):\\n    print(x)\\n\\n# example 4\\nfor x in len(words):\\n    print(x)\\n\\n# example 5\\nfor x in words:\\n    if 'shrubbery' in x:\\n        print(x)\\nelse:\\n    print('For loop is done.')\",\n",
       "  \"words = 'spam ham eggs'.split()\",\n",
       "  '# example 1\\nfor word in words:\\n    print(word, len(word))',\n",
       "  '# example 2    \\nfor index, word in enumerate(words):\\n    print(index, word, len(word))',\n",
       "  '# example 3    \\nfor x in range(10):\\n    print(x)',\n",
       "  '# example 4\\nfor x in len(words):\\n    print(x)',\n",
       "  \"# example 5\\nfor x in words:\\n    if 'shrubbery' in x:\\n        print(x)\\nelse:\\n    print('For loop is done.')\",\n",
       "  \"# example 5\\nprint(words)\\nfor x in words:\\n    if 'shrubbery' in x:\\n        print(x)\\nelse:\\n    print('For loop is done.')\",\n",
       "  \"# example 5\\nprint(words)\\nfor x in words:\\n    if 'spam' in x:\\n        print(x)\\nelse:\\n    print('For loop is done.')\",\n",
       "  \"# example 5\\nprint(words)\\nfor x in words:\\n    if 'shrubbery' in x:\\n        print(x)\\nelse:\\n    print('For loop is done.')\",\n",
       "  \"spams = ['spam', 'ham','eggs']\\nindex = 0\\nwhile True:\\n    if spams[index] == 'spam':\\n        index +=1\\n        continue\\n    elif spams[index] == 'eggs':\\n        break\\n    else:\\n        index +=1\\n        print(spams[index])\",\n",
       "  'import random\\n\\ndef get_spam(n):\\n    \"\"\"Returns a list of spam\\n    n: number of spam elements\\n    returns: list of Holy Grail items\\n    \"\"\"\\n    result = []\\n    for _ in range(n):\\n        result.append(random.choice([\\'spam\\', \\'eggs\\', \\'Ni!\\', \\'shrubbery\\', \\'Patsy\\']))\\n    return result',\n",
       "  'get_spam\\nprint(get_spam.__doc__)\\nget_spam(10)',\n",
       "  'git clone https://github.com/pyenv/pyenv.git ~/.pyenv\\necho \\'export PYENV_ROOT=\"$HOME/.pyenv\"\\' >> ~/.bash_profile\\necho \\'export PATH=\"$PYENV_ROOT/bin:$PATH\"\\' >> ~/.bash_profile\\necho -e \\'if command -v pyenv 1>/dev/null 2>&1; then\\\\n  eval \"$(pyenv init -)\"\\\\nfi\\' >> ~/.bash_profile',\n",
       "  'pyenv install 3.6.5',\n",
       "  'git clone https://github.com/pyenv/pyenv.git ~/.pyenv\\necho \\'export PYENV_ROOT=\"$HOME/.pyenv\"\\' >> ~/.bash_profile\\necho \\'export PATH=\"$PYENV_ROOT/bin:$PATH\"\\' >> ~/.bash_profile\\necho -e \\'if command -v pyenv 1>/dev/null 2>&1; then\\\\n  eval \"$(pyenv init -)\"\\\\nfi\\' >> ~/.bash_profile',\n",
       "  '# comentário\\nprint(\\'\\'\\'comentário\\'\\'\\')\\nprint(\"\"\"comentário\"\"\")\\nprint(\"\"\"comentário\\n\"\"\")',\n",
       "  '# booleanos\\nspam = True\\neggs = False\\n\\nprint(eggs)',\n",
       "  \"# Nulos\\nham = None\\nprint(not None)\\nprint(not [])\\nprint(not 0)\\nprint(not '')\\nprint(not False)\",\n",
       "  '# Operações com números\\n2 + 3\\n5 / 3\\n5 // 3\\n5 * 2\\n5**2\\n5**2 == 5 * 5\\na, b = 1,2\\na, b = b, a\\nprint(a, b)',\n",
       "  '# strings\\nspam = \\'eggs\\'\\nspam = \"eggs\"\\nspam = \\'spam isn\\\\\\'t eggs\\'\\nspam = \"\"\"spam isn\\'t eggs\"\"\"\\nspam = \\'\\'\\'spam isn\\'t eggs\\'\\'\\'',\n",
       "  \"#números complexos\\na=5+3j + 1 -1j\\na.imag\\na.real\\na = complex(5,1)\\na.imag\\na.real\\ncomplex('1+2j')\",\n",
       "  \"complex('1+ 2j')\",\n",
       "  'import random\\n\\ndef get_spam(n):\\n    \"\"\"Returns a list of spam\\n    \\n    This function returns a list of spams because King Arthur\\n    thinks this is important.\\n    \\n    n: number of spam elements\\n    returns: list of Holy Grail items\\n    \"\"\"\\n    result = []\\n    for _ in range(n):\\n        result.append(random.choice([\\'spam\\', \\'eggs\\', \\'Ni!\\', \\'shrubbery\\', \\'Patsy\\']))\\n    return result',\n",
       "  \"spam = 'spam'\\n\\nprint(f'There is a lot of {spam} in this video: https://www.youtube.com/watch?v=anwy2MPT5RE')\",\n",
       "  \"spam = ','.join(['spam'] * 3)\\n\\nprint(f'There is a lot of {spam} in this video: https://www.youtube.com/watch?v=anwy2MPT5RE')\",\n",
       "  \"for arg in ['deputies_dataset.csv', 'non-existent-file']:\\n    try:\\n        f = open(arg, 'r')\\n    except OSError:\\n        print('cannot open', arg)\\n    else:\\n        print(arg, 'has', len(f.readlines()), 'lines')\\n        f.close()\",\n",
       "  \"for arg in ['deputies_dataset.csv', 'non-existent-file']:\\n    try:\\n        f = open(arg, 'r')\\n    except OSError:\\n        print('cannot open', arg)\\n    else:\\n        print(arg, 'has', len(f.readlines()), 'lines')\\n        f.close()\",\n",
       "  'def divide(x, y):\\n    try:\\n        result = x / y\\n    except ZeroDivisionError:\\n        print(\"division by zero!\")\\n    else:\\n        print(\"result is\", result)\\n    finally:\\n        print(\"executing finally clause\")',\n",
       "  'def divide(x, y):\\n    try:\\n        result = x / y\\n    except ZeroDivisionError:\\n        print(\"division by zero!\")\\n    else:\\n        print(\"result is\", result)\\n    finally:\\n        print(\"executing finally clause\")',\n",
       "  'divide(2, 1)',\n",
       "  'divide(2, 0)',\n",
       "  'divide(\"2\", \"1\")',\n",
       "  'def divide(x, y):\\n    try:\\n        result = x / y\\n    except ZeroDivisionError:\\n        print(\"division by zero!\")\\n    except TypeError:\\n        print(\\'Invalid input, please input numbers to divide function.\\')\\n    else:\\n        print(\"result is\", result)\\n    finally:\\n        print(\"executing finally clause\")',\n",
       "  'divide(\"2\", \"1\")',\n",
       "  \"def print_locals():\\n    spam = 'eggs'\\n    spams = ['eggs', 'ham', 'spam']\\n    print(locals())\",\n",
       "  'locals()'],\n",
       " '_oh': {14: ['eggs',\n",
       "   'spam',\n",
       "   'Patsy',\n",
       "   'Patsy',\n",
       "   'Patsy',\n",
       "   'eggs',\n",
       "   'shrubbery',\n",
       "   'spam',\n",
       "   'eggs',\n",
       "   'Patsy'],\n",
       "  23: (1+2j)},\n",
       " '_dh': ['/home/luizhonda/python-hands-on'],\n",
       " 'In': ['',\n",
       "  \"words = 'spam ham eggs'.split()\\n\\n# example 1\\nfor word in words:\\n    print(word, len(word))\\n\\n# example 2    \\nfor index, word in enumerate(words):\\n    print(index, word, len(word))\\n\\n# example 3    \\nfor x in range(10):\\n    print(x)\\n\\n# example 4\\nfor x in len(words):\\n    print(x)\\n\\n# example 5\\nfor x in words:\\n    if 'shrubbery' in x:\\n        print(x)\\nelse:\\n    print('For loop is done.')\",\n",
       "  \"words = 'spam ham eggs'.split()\\n\\n# example 1\\nfor word in words:\\n    print(word, len(word))\\n\\n# example 2    \\nfor index, word in enumerate(words):\\n    print(index, word, len(word))\\n\\n# example 3    \\nfor x in range(10):\\n    print(x)\\n\\n# example 4\\nfor x in len(words):\\n    print(x)\\n\\n# example 5\\nfor x in words:\\n    if 'shrubbery' in x:\\n        print(x)\\nelse:\\n    print('For loop is done.')\",\n",
       "  \"words = 'spam ham eggs'.split()\",\n",
       "  '# example 1\\nfor word in words:\\n    print(word, len(word))',\n",
       "  '# example 2    \\nfor index, word in enumerate(words):\\n    print(index, word, len(word))',\n",
       "  '# example 3    \\nfor x in range(10):\\n    print(x)',\n",
       "  '# example 4\\nfor x in len(words):\\n    print(x)',\n",
       "  \"# example 5\\nfor x in words:\\n    if 'shrubbery' in x:\\n        print(x)\\nelse:\\n    print('For loop is done.')\",\n",
       "  \"# example 5\\nprint(words)\\nfor x in words:\\n    if 'shrubbery' in x:\\n        print(x)\\nelse:\\n    print('For loop is done.')\",\n",
       "  \"# example 5\\nprint(words)\\nfor x in words:\\n    if 'spam' in x:\\n        print(x)\\nelse:\\n    print('For loop is done.')\",\n",
       "  \"# example 5\\nprint(words)\\nfor x in words:\\n    if 'shrubbery' in x:\\n        print(x)\\nelse:\\n    print('For loop is done.')\",\n",
       "  \"spams = ['spam', 'ham','eggs']\\nindex = 0\\nwhile True:\\n    if spams[index] == 'spam':\\n        index +=1\\n        continue\\n    elif spams[index] == 'eggs':\\n        break\\n    else:\\n        index +=1\\n        print(spams[index])\",\n",
       "  'import random\\n\\ndef get_spam(n):\\n    \"\"\"Returns a list of spam\\n    n: number of spam elements\\n    returns: list of Holy Grail items\\n    \"\"\"\\n    result = []\\n    for _ in range(n):\\n        result.append(random.choice([\\'spam\\', \\'eggs\\', \\'Ni!\\', \\'shrubbery\\', \\'Patsy\\']))\\n    return result',\n",
       "  'get_spam\\nprint(get_spam.__doc__)\\nget_spam(10)',\n",
       "  'git clone https://github.com/pyenv/pyenv.git ~/.pyenv\\necho \\'export PYENV_ROOT=\"$HOME/.pyenv\"\\' >> ~/.bash_profile\\necho \\'export PATH=\"$PYENV_ROOT/bin:$PATH\"\\' >> ~/.bash_profile\\necho -e \\'if command -v pyenv 1>/dev/null 2>&1; then\\\\n  eval \"$(pyenv init -)\"\\\\nfi\\' >> ~/.bash_profile',\n",
       "  'pyenv install 3.6.5',\n",
       "  'git clone https://github.com/pyenv/pyenv.git ~/.pyenv\\necho \\'export PYENV_ROOT=\"$HOME/.pyenv\"\\' >> ~/.bash_profile\\necho \\'export PATH=\"$PYENV_ROOT/bin:$PATH\"\\' >> ~/.bash_profile\\necho -e \\'if command -v pyenv 1>/dev/null 2>&1; then\\\\n  eval \"$(pyenv init -)\"\\\\nfi\\' >> ~/.bash_profile',\n",
       "  '# comentário\\nprint(\\'\\'\\'comentário\\'\\'\\')\\nprint(\"\"\"comentário\"\"\")\\nprint(\"\"\"comentário\\n\"\"\")',\n",
       "  '# booleanos\\nspam = True\\neggs = False\\n\\nprint(eggs)',\n",
       "  \"# Nulos\\nham = None\\nprint(not None)\\nprint(not [])\\nprint(not 0)\\nprint(not '')\\nprint(not False)\",\n",
       "  '# Operações com números\\n2 + 3\\n5 / 3\\n5 // 3\\n5 * 2\\n5**2\\n5**2 == 5 * 5\\na, b = 1,2\\na, b = b, a\\nprint(a, b)',\n",
       "  '# strings\\nspam = \\'eggs\\'\\nspam = \"eggs\"\\nspam = \\'spam isn\\\\\\'t eggs\\'\\nspam = \"\"\"spam isn\\'t eggs\"\"\"\\nspam = \\'\\'\\'spam isn\\'t eggs\\'\\'\\'',\n",
       "  \"#números complexos\\na=5+3j + 1 -1j\\na.imag\\na.real\\na = complex(5,1)\\na.imag\\na.real\\ncomplex('1+2j')\",\n",
       "  \"complex('1+ 2j')\",\n",
       "  'import random\\n\\ndef get_spam(n):\\n    \"\"\"Returns a list of spam\\n    \\n    This function returns a list of spams because King Arthur\\n    thinks this is important.\\n    \\n    n: number of spam elements\\n    returns: list of Holy Grail items\\n    \"\"\"\\n    result = []\\n    for _ in range(n):\\n        result.append(random.choice([\\'spam\\', \\'eggs\\', \\'Ni!\\', \\'shrubbery\\', \\'Patsy\\']))\\n    return result',\n",
       "  \"spam = 'spam'\\n\\nprint(f'There is a lot of {spam} in this video: https://www.youtube.com/watch?v=anwy2MPT5RE')\",\n",
       "  \"spam = ','.join(['spam'] * 3)\\n\\nprint(f'There is a lot of {spam} in this video: https://www.youtube.com/watch?v=anwy2MPT5RE')\",\n",
       "  \"for arg in ['deputies_dataset.csv', 'non-existent-file']:\\n    try:\\n        f = open(arg, 'r')\\n    except OSError:\\n        print('cannot open', arg)\\n    else:\\n        print(arg, 'has', len(f.readlines()), 'lines')\\n        f.close()\",\n",
       "  \"for arg in ['deputies_dataset.csv', 'non-existent-file']:\\n    try:\\n        f = open(arg, 'r')\\n    except OSError:\\n        print('cannot open', arg)\\n    else:\\n        print(arg, 'has', len(f.readlines()), 'lines')\\n        f.close()\",\n",
       "  'def divide(x, y):\\n    try:\\n        result = x / y\\n    except ZeroDivisionError:\\n        print(\"division by zero!\")\\n    else:\\n        print(\"result is\", result)\\n    finally:\\n        print(\"executing finally clause\")',\n",
       "  'def divide(x, y):\\n    try:\\n        result = x / y\\n    except ZeroDivisionError:\\n        print(\"division by zero!\")\\n    else:\\n        print(\"result is\", result)\\n    finally:\\n        print(\"executing finally clause\")',\n",
       "  'divide(2, 1)',\n",
       "  'divide(2, 0)',\n",
       "  'divide(\"2\", \"1\")',\n",
       "  'def divide(x, y):\\n    try:\\n        result = x / y\\n    except ZeroDivisionError:\\n        print(\"division by zero!\")\\n    except TypeError:\\n        print(\\'Invalid input, please input numbers to divide function.\\')\\n    else:\\n        print(\"result is\", result)\\n    finally:\\n        print(\"executing finally clause\")',\n",
       "  'divide(\"2\", \"1\")',\n",
       "  \"def print_locals():\\n    spam = 'eggs'\\n    spams = ['eggs', 'ham', 'spam']\\n    print(locals())\",\n",
       "  'locals()'],\n",
       " 'Out': {14: ['eggs',\n",
       "   'spam',\n",
       "   'Patsy',\n",
       "   'Patsy',\n",
       "   'Patsy',\n",
       "   'eggs',\n",
       "   'shrubbery',\n",
       "   'spam',\n",
       "   'eggs',\n",
       "   'Patsy'],\n",
       "  23: (1+2j)},\n",
       " 'get_ipython': <bound method InteractiveShell.get_ipython of <ipykernel.zmqshell.ZMQInteractiveShell object at 0x7f9dbb23f828>>,\n",
       " 'exit': <IPython.core.autocall.ZMQExitAutocall at 0x7f9db27d15c0>,\n",
       " 'quit': <IPython.core.autocall.ZMQExitAutocall at 0x7f9db27d15c0>,\n",
       " '_': (1+2j),\n",
       " '__': ['eggs',\n",
       "  'spam',\n",
       "  'Patsy',\n",
       "  'Patsy',\n",
       "  'Patsy',\n",
       "  'eggs',\n",
       "  'shrubbery',\n",
       "  'spam',\n",
       "  'eggs',\n",
       "  'Patsy'],\n",
       " '___': '',\n",
       " '_i': \"def print_locals():\\n    spam = 'eggs'\\n    spams = ['eggs', 'ham', 'spam']\\n    print(locals())\",\n",
       " '_ii': 'divide(\"2\", \"1\")',\n",
       " '_iii': 'def divide(x, y):\\n    try:\\n        result = x / y\\n    except ZeroDivisionError:\\n        print(\"division by zero!\")\\n    except TypeError:\\n        print(\\'Invalid input, please input numbers to divide function.\\')\\n    else:\\n        print(\"result is\", result)\\n    finally:\\n        print(\"executing finally clause\")',\n",
       " '_i1': \"words = 'spam ham eggs'.split()\\n\\n# example 1\\nfor word in words:\\n    print(word, len(word))\\n\\n# example 2    \\nfor index, word in enumerate(words):\\n    print(index, word, len(word))\\n\\n# example 3    \\nfor x in range(10):\\n    print(x)\\n\\n# example 4\\nfor x in len(words):\\n    print(x)\\n\\n# example 5\\nfor x in words:\\n    if 'shrubbery' in x:\\n        print(x)\\nelse:\\n    print('For loop is done.')\",\n",
       " 'words': ['spam', 'ham', 'eggs'],\n",
       " 'word': 'eggs',\n",
       " 'index': 2,\n",
       " 'x': 'eggs',\n",
       " '_i2': \"words = 'spam ham eggs'.split()\\n\\n# example 1\\nfor word in words:\\n    print(word, len(word))\\n\\n# example 2    \\nfor index, word in enumerate(words):\\n    print(index, word, len(word))\\n\\n# example 3    \\nfor x in range(10):\\n    print(x)\\n\\n# example 4\\nfor x in len(words):\\n    print(x)\\n\\n# example 5\\nfor x in words:\\n    if 'shrubbery' in x:\\n        print(x)\\nelse:\\n    print('For loop is done.')\",\n",
       " '_i3': \"words = 'spam ham eggs'.split()\",\n",
       " '_i4': '# example 1\\nfor word in words:\\n    print(word, len(word))',\n",
       " '_i5': '# example 2    \\nfor index, word in enumerate(words):\\n    print(index, word, len(word))',\n",
       " '_i6': '# example 3    \\nfor x in range(10):\\n    print(x)',\n",
       " '_i7': '# example 4\\nfor x in len(words):\\n    print(x)',\n",
       " '_i8': \"# example 5\\nfor x in words:\\n    if 'shrubbery' in x:\\n        print(x)\\nelse:\\n    print('For loop is done.')\",\n",
       " '_i9': \"# example 5\\nprint(words)\\nfor x in words:\\n    if 'shrubbery' in x:\\n        print(x)\\nelse:\\n    print('For loop is done.')\",\n",
       " '_i10': \"# example 5\\nprint(words)\\nfor x in words:\\n    if 'spam' in x:\\n        print(x)\\nelse:\\n    print('For loop is done.')\",\n",
       " '_i11': \"# example 5\\nprint(words)\\nfor x in words:\\n    if 'shrubbery' in x:\\n        print(x)\\nelse:\\n    print('For loop is done.')\",\n",
       " '_i12': \"spams = ['spam', 'ham','eggs']\\nindex = 0\\nwhile True:\\n    if spams[index] == 'spam':\\n        index +=1\\n        continue\\n    elif spams[index] == 'eggs':\\n        break\\n    else:\\n        index +=1\\n        print(spams[index])\",\n",
       " 'spams': ['spam', 'ham', 'eggs'],\n",
       " '_i13': 'import random\\n\\ndef get_spam(n):\\n    \"\"\"Returns a list of spam\\n    n: number of spam elements\\n    returns: list of Holy Grail items\\n    \"\"\"\\n    result = []\\n    for _ in range(n):\\n        result.append(random.choice([\\'spam\\', \\'eggs\\', \\'Ni!\\', \\'shrubbery\\', \\'Patsy\\']))\\n    return result',\n",
       " 'random': <module 'random' from '/home/luizhonda/.pyenv/versions/3.6.5/lib/python3.6/random.py'>,\n",
       " 'get_spam': <function __main__.get_spam(n)>,\n",
       " '_i14': 'get_spam\\nprint(get_spam.__doc__)\\nget_spam(10)',\n",
       " '_14': ['eggs',\n",
       "  'spam',\n",
       "  'Patsy',\n",
       "  'Patsy',\n",
       "  'Patsy',\n",
       "  'eggs',\n",
       "  'shrubbery',\n",
       "  'spam',\n",
       "  'eggs',\n",
       "  'Patsy'],\n",
       " '_i15': 'git clone https://github.com/pyenv/pyenv.git ~/.pyenv\\necho \\'export PYENV_ROOT=\"$HOME/.pyenv\"\\' >> ~/.bash_profile\\necho \\'export PATH=\"$PYENV_ROOT/bin:$PATH\"\\' >> ~/.bash_profile\\necho -e \\'if command -v pyenv 1>/dev/null 2>&1; then\\\\n  eval \"$(pyenv init -)\"\\\\nfi\\' >> ~/.bash_profile',\n",
       " '_i16': 'pyenv install 3.6.5',\n",
       " '_i17': 'git clone https://github.com/pyenv/pyenv.git ~/.pyenv\\necho \\'export PYENV_ROOT=\"$HOME/.pyenv\"\\' >> ~/.bash_profile\\necho \\'export PATH=\"$PYENV_ROOT/bin:$PATH\"\\' >> ~/.bash_profile\\necho -e \\'if command -v pyenv 1>/dev/null 2>&1; then\\\\n  eval \"$(pyenv init -)\"\\\\nfi\\' >> ~/.bash_profile',\n",
       " '_i18': '# comentário\\nprint(\\'\\'\\'comentário\\'\\'\\')\\nprint(\"\"\"comentário\"\"\")\\nprint(\"\"\"comentário\\n\"\"\")',\n",
       " '_i19': '# booleanos\\nspam = True\\neggs = False\\n\\nprint(eggs)',\n",
       " 'spam': 'spam,spam,spam',\n",
       " 'eggs': False,\n",
       " '_i20': \"# Nulos\\nham = None\\nprint(not None)\\nprint(not [])\\nprint(not 0)\\nprint(not '')\\nprint(not False)\",\n",
       " 'ham': None,\n",
       " '_i21': '# Operações com números\\n2 + 3\\n5 / 3\\n5 // 3\\n5 * 2\\n5**2\\n5**2 == 5 * 5\\na, b = 1,2\\na, b = b, a\\nprint(a, b)',\n",
       " 'a': (5+1j),\n",
       " 'b': 1,\n",
       " '_i22': '# strings\\nspam = \\'eggs\\'\\nspam = \"eggs\"\\nspam = \\'spam isn\\\\\\'t eggs\\'\\nspam = \"\"\"spam isn\\'t eggs\"\"\"\\nspam = \\'\\'\\'spam isn\\'t eggs\\'\\'\\'',\n",
       " '_i23': \"#números complexos\\na=5+3j + 1 -1j\\na.imag\\na.real\\na = complex(5,1)\\na.imag\\na.real\\ncomplex('1+2j')\",\n",
       " '_23': (1+2j),\n",
       " '_i24': \"complex('1+ 2j')\",\n",
       " '_i25': 'import random\\n\\ndef get_spam(n):\\n    \"\"\"Returns a list of spam\\n    \\n    This function returns a list of spams because King Arthur\\n    thinks this is important.\\n    \\n    n: number of spam elements\\n    returns: list of Holy Grail items\\n    \"\"\"\\n    result = []\\n    for _ in range(n):\\n        result.append(random.choice([\\'spam\\', \\'eggs\\', \\'Ni!\\', \\'shrubbery\\', \\'Patsy\\']))\\n    return result',\n",
       " '_i26': \"spam = 'spam'\\n\\nprint(f'There is a lot of {spam} in this video: https://www.youtube.com/watch?v=anwy2MPT5RE')\",\n",
       " '_i27': \"spam = ','.join(['spam'] * 3)\\n\\nprint(f'There is a lot of {spam} in this video: https://www.youtube.com/watch?v=anwy2MPT5RE')\",\n",
       " '_i28': \"for arg in ['deputies_dataset.csv', 'non-existent-file']:\\n    try:\\n        f = open(arg, 'r')\\n    except OSError:\\n        print('cannot open', arg)\\n    else:\\n        print(arg, 'has', len(f.readlines()), 'lines')\\n        f.close()\",\n",
       " 'arg': 'non-existent-file',\n",
       " 'f': <_io.TextIOWrapper name='deputies_dataset.csv' mode='r' encoding='UTF-8'>,\n",
       " '_i29': \"for arg in ['deputies_dataset.csv', 'non-existent-file']:\\n    try:\\n        f = open(arg, 'r')\\n    except OSError:\\n        print('cannot open', arg)\\n    else:\\n        print(arg, 'has', len(f.readlines()), 'lines')\\n        f.close()\",\n",
       " '_i30': 'def divide(x, y):\\n    try:\\n        result = x / y\\n    except ZeroDivisionError:\\n        print(\"division by zero!\")\\n    else:\\n        print(\"result is\", result)\\n    finally:\\n        print(\"executing finally clause\")',\n",
       " 'divide': <function __main__.divide(x, y)>,\n",
       " '_i31': 'def divide(x, y):\\n    try:\\n        result = x / y\\n    except ZeroDivisionError:\\n        print(\"division by zero!\")\\n    else:\\n        print(\"result is\", result)\\n    finally:\\n        print(\"executing finally clause\")',\n",
       " '_i32': 'divide(2, 1)',\n",
       " '_i33': 'divide(2, 0)',\n",
       " '_i34': 'divide(\"2\", \"1\")',\n",
       " '_i35': 'def divide(x, y):\\n    try:\\n        result = x / y\\n    except ZeroDivisionError:\\n        print(\"division by zero!\")\\n    except TypeError:\\n        print(\\'Invalid input, please input numbers to divide function.\\')\\n    else:\\n        print(\"result is\", result)\\n    finally:\\n        print(\"executing finally clause\")',\n",
       " '_i36': 'divide(\"2\", \"1\")',\n",
       " '_i37': \"def print_locals():\\n    spam = 'eggs'\\n    spams = ['eggs', 'ham', 'spam']\\n    print(locals())\",\n",
       " 'print_locals': <function __main__.print_locals()>,\n",
       " '_i38': 'locals()'}"
      ]
     },
     "execution_count": 38,
     "metadata": {},
     "output_type": "execute_result"
    }
   ],
   "source": [
    "locals()"
   ]
  },
  {
   "cell_type": "code",
   "execution_count": 39,
   "metadata": {},
   "outputs": [
    {
     "name": "stdout",
     "output_type": "stream",
     "text": [
      "{'spams': ['eggs', 'ham', 'spam'], 'spam': 'eggs'}\n"
     ]
    }
   ],
   "source": [
    "print_locals()"
   ]
  },
  {
   "cell_type": "code",
   "execution_count": 40,
   "metadata": {},
   "outputs": [
    {
     "data": {
      "text/plain": [
       "{'__name__': '__main__',\n",
       " '__doc__': 'Automatically created module for IPython interactive environment',\n",
       " '__package__': None,\n",
       " '__loader__': None,\n",
       " '__spec__': None,\n",
       " '__builtin__': <module 'builtins' (built-in)>,\n",
       " '__builtins__': <module 'builtins' (built-in)>,\n",
       " '_ih': ['',\n",
       "  \"words = 'spam ham eggs'.split()\\n\\n# example 1\\nfor word in words:\\n    print(word, len(word))\\n\\n# example 2    \\nfor index, word in enumerate(words):\\n    print(index, word, len(word))\\n\\n# example 3    \\nfor x in range(10):\\n    print(x)\\n\\n# example 4\\nfor x in len(words):\\n    print(x)\\n\\n# example 5\\nfor x in words:\\n    if 'shrubbery' in x:\\n        print(x)\\nelse:\\n    print('For loop is done.')\",\n",
       "  \"words = 'spam ham eggs'.split()\\n\\n# example 1\\nfor word in words:\\n    print(word, len(word))\\n\\n# example 2    \\nfor index, word in enumerate(words):\\n    print(index, word, len(word))\\n\\n# example 3    \\nfor x in range(10):\\n    print(x)\\n\\n# example 4\\nfor x in len(words):\\n    print(x)\\n\\n# example 5\\nfor x in words:\\n    if 'shrubbery' in x:\\n        print(x)\\nelse:\\n    print('For loop is done.')\",\n",
       "  \"words = 'spam ham eggs'.split()\",\n",
       "  '# example 1\\nfor word in words:\\n    print(word, len(word))',\n",
       "  '# example 2    \\nfor index, word in enumerate(words):\\n    print(index, word, len(word))',\n",
       "  '# example 3    \\nfor x in range(10):\\n    print(x)',\n",
       "  '# example 4\\nfor x in len(words):\\n    print(x)',\n",
       "  \"# example 5\\nfor x in words:\\n    if 'shrubbery' in x:\\n        print(x)\\nelse:\\n    print('For loop is done.')\",\n",
       "  \"# example 5\\nprint(words)\\nfor x in words:\\n    if 'shrubbery' in x:\\n        print(x)\\nelse:\\n    print('For loop is done.')\",\n",
       "  \"# example 5\\nprint(words)\\nfor x in words:\\n    if 'spam' in x:\\n        print(x)\\nelse:\\n    print('For loop is done.')\",\n",
       "  \"# example 5\\nprint(words)\\nfor x in words:\\n    if 'shrubbery' in x:\\n        print(x)\\nelse:\\n    print('For loop is done.')\",\n",
       "  \"spams = ['spam', 'ham','eggs']\\nindex = 0\\nwhile True:\\n    if spams[index] == 'spam':\\n        index +=1\\n        continue\\n    elif spams[index] == 'eggs':\\n        break\\n    else:\\n        index +=1\\n        print(spams[index])\",\n",
       "  'import random\\n\\ndef get_spam(n):\\n    \"\"\"Returns a list of spam\\n    n: number of spam elements\\n    returns: list of Holy Grail items\\n    \"\"\"\\n    result = []\\n    for _ in range(n):\\n        result.append(random.choice([\\'spam\\', \\'eggs\\', \\'Ni!\\', \\'shrubbery\\', \\'Patsy\\']))\\n    return result',\n",
       "  'get_spam\\nprint(get_spam.__doc__)\\nget_spam(10)',\n",
       "  'git clone https://github.com/pyenv/pyenv.git ~/.pyenv\\necho \\'export PYENV_ROOT=\"$HOME/.pyenv\"\\' >> ~/.bash_profile\\necho \\'export PATH=\"$PYENV_ROOT/bin:$PATH\"\\' >> ~/.bash_profile\\necho -e \\'if command -v pyenv 1>/dev/null 2>&1; then\\\\n  eval \"$(pyenv init -)\"\\\\nfi\\' >> ~/.bash_profile',\n",
       "  'pyenv install 3.6.5',\n",
       "  'git clone https://github.com/pyenv/pyenv.git ~/.pyenv\\necho \\'export PYENV_ROOT=\"$HOME/.pyenv\"\\' >> ~/.bash_profile\\necho \\'export PATH=\"$PYENV_ROOT/bin:$PATH\"\\' >> ~/.bash_profile\\necho -e \\'if command -v pyenv 1>/dev/null 2>&1; then\\\\n  eval \"$(pyenv init -)\"\\\\nfi\\' >> ~/.bash_profile',\n",
       "  '# comentário\\nprint(\\'\\'\\'comentário\\'\\'\\')\\nprint(\"\"\"comentário\"\"\")\\nprint(\"\"\"comentário\\n\"\"\")',\n",
       "  '# booleanos\\nspam = True\\neggs = False\\n\\nprint(eggs)',\n",
       "  \"# Nulos\\nham = None\\nprint(not None)\\nprint(not [])\\nprint(not 0)\\nprint(not '')\\nprint(not False)\",\n",
       "  '# Operações com números\\n2 + 3\\n5 / 3\\n5 // 3\\n5 * 2\\n5**2\\n5**2 == 5 * 5\\na, b = 1,2\\na, b = b, a\\nprint(a, b)',\n",
       "  '# strings\\nspam = \\'eggs\\'\\nspam = \"eggs\"\\nspam = \\'spam isn\\\\\\'t eggs\\'\\nspam = \"\"\"spam isn\\'t eggs\"\"\"\\nspam = \\'\\'\\'spam isn\\'t eggs\\'\\'\\'',\n",
       "  \"#números complexos\\na=5+3j + 1 -1j\\na.imag\\na.real\\na = complex(5,1)\\na.imag\\na.real\\ncomplex('1+2j')\",\n",
       "  \"complex('1+ 2j')\",\n",
       "  'import random\\n\\ndef get_spam(n):\\n    \"\"\"Returns a list of spam\\n    \\n    This function returns a list of spams because King Arthur\\n    thinks this is important.\\n    \\n    n: number of spam elements\\n    returns: list of Holy Grail items\\n    \"\"\"\\n    result = []\\n    for _ in range(n):\\n        result.append(random.choice([\\'spam\\', \\'eggs\\', \\'Ni!\\', \\'shrubbery\\', \\'Patsy\\']))\\n    return result',\n",
       "  \"spam = 'spam'\\n\\nprint(f'There is a lot of {spam} in this video: https://www.youtube.com/watch?v=anwy2MPT5RE')\",\n",
       "  \"spam = ','.join(['spam'] * 3)\\n\\nprint(f'There is a lot of {spam} in this video: https://www.youtube.com/watch?v=anwy2MPT5RE')\",\n",
       "  \"for arg in ['deputies_dataset.csv', 'non-existent-file']:\\n    try:\\n        f = open(arg, 'r')\\n    except OSError:\\n        print('cannot open', arg)\\n    else:\\n        print(arg, 'has', len(f.readlines()), 'lines')\\n        f.close()\",\n",
       "  \"for arg in ['deputies_dataset.csv', 'non-existent-file']:\\n    try:\\n        f = open(arg, 'r')\\n    except OSError:\\n        print('cannot open', arg)\\n    else:\\n        print(arg, 'has', len(f.readlines()), 'lines')\\n        f.close()\",\n",
       "  'def divide(x, y):\\n    try:\\n        result = x / y\\n    except ZeroDivisionError:\\n        print(\"division by zero!\")\\n    else:\\n        print(\"result is\", result)\\n    finally:\\n        print(\"executing finally clause\")',\n",
       "  'def divide(x, y):\\n    try:\\n        result = x / y\\n    except ZeroDivisionError:\\n        print(\"division by zero!\")\\n    else:\\n        print(\"result is\", result)\\n    finally:\\n        print(\"executing finally clause\")',\n",
       "  'divide(2, 1)',\n",
       "  'divide(2, 0)',\n",
       "  'divide(\"2\", \"1\")',\n",
       "  'def divide(x, y):\\n    try:\\n        result = x / y\\n    except ZeroDivisionError:\\n        print(\"division by zero!\")\\n    except TypeError:\\n        print(\\'Invalid input, please input numbers to divide function.\\')\\n    else:\\n        print(\"result is\", result)\\n    finally:\\n        print(\"executing finally clause\")',\n",
       "  'divide(\"2\", \"1\")',\n",
       "  \"def print_locals():\\n    spam = 'eggs'\\n    spams = ['eggs', 'ham', 'spam']\\n    print(locals())\",\n",
       "  'locals()',\n",
       "  'print_locals()',\n",
       "  'globals()'],\n",
       " '_oh': {14: ['eggs',\n",
       "   'spam',\n",
       "   'Patsy',\n",
       "   'Patsy',\n",
       "   'Patsy',\n",
       "   'eggs',\n",
       "   'shrubbery',\n",
       "   'spam',\n",
       "   'eggs',\n",
       "   'Patsy'],\n",
       "  23: (1+2j),\n",
       "  38: {...}},\n",
       " '_dh': ['/home/luizhonda/python-hands-on'],\n",
       " 'In': ['',\n",
       "  \"words = 'spam ham eggs'.split()\\n\\n# example 1\\nfor word in words:\\n    print(word, len(word))\\n\\n# example 2    \\nfor index, word in enumerate(words):\\n    print(index, word, len(word))\\n\\n# example 3    \\nfor x in range(10):\\n    print(x)\\n\\n# example 4\\nfor x in len(words):\\n    print(x)\\n\\n# example 5\\nfor x in words:\\n    if 'shrubbery' in x:\\n        print(x)\\nelse:\\n    print('For loop is done.')\",\n",
       "  \"words = 'spam ham eggs'.split()\\n\\n# example 1\\nfor word in words:\\n    print(word, len(word))\\n\\n# example 2    \\nfor index, word in enumerate(words):\\n    print(index, word, len(word))\\n\\n# example 3    \\nfor x in range(10):\\n    print(x)\\n\\n# example 4\\nfor x in len(words):\\n    print(x)\\n\\n# example 5\\nfor x in words:\\n    if 'shrubbery' in x:\\n        print(x)\\nelse:\\n    print('For loop is done.')\",\n",
       "  \"words = 'spam ham eggs'.split()\",\n",
       "  '# example 1\\nfor word in words:\\n    print(word, len(word))',\n",
       "  '# example 2    \\nfor index, word in enumerate(words):\\n    print(index, word, len(word))',\n",
       "  '# example 3    \\nfor x in range(10):\\n    print(x)',\n",
       "  '# example 4\\nfor x in len(words):\\n    print(x)',\n",
       "  \"# example 5\\nfor x in words:\\n    if 'shrubbery' in x:\\n        print(x)\\nelse:\\n    print('For loop is done.')\",\n",
       "  \"# example 5\\nprint(words)\\nfor x in words:\\n    if 'shrubbery' in x:\\n        print(x)\\nelse:\\n    print('For loop is done.')\",\n",
       "  \"# example 5\\nprint(words)\\nfor x in words:\\n    if 'spam' in x:\\n        print(x)\\nelse:\\n    print('For loop is done.')\",\n",
       "  \"# example 5\\nprint(words)\\nfor x in words:\\n    if 'shrubbery' in x:\\n        print(x)\\nelse:\\n    print('For loop is done.')\",\n",
       "  \"spams = ['spam', 'ham','eggs']\\nindex = 0\\nwhile True:\\n    if spams[index] == 'spam':\\n        index +=1\\n        continue\\n    elif spams[index] == 'eggs':\\n        break\\n    else:\\n        index +=1\\n        print(spams[index])\",\n",
       "  'import random\\n\\ndef get_spam(n):\\n    \"\"\"Returns a list of spam\\n    n: number of spam elements\\n    returns: list of Holy Grail items\\n    \"\"\"\\n    result = []\\n    for _ in range(n):\\n        result.append(random.choice([\\'spam\\', \\'eggs\\', \\'Ni!\\', \\'shrubbery\\', \\'Patsy\\']))\\n    return result',\n",
       "  'get_spam\\nprint(get_spam.__doc__)\\nget_spam(10)',\n",
       "  'git clone https://github.com/pyenv/pyenv.git ~/.pyenv\\necho \\'export PYENV_ROOT=\"$HOME/.pyenv\"\\' >> ~/.bash_profile\\necho \\'export PATH=\"$PYENV_ROOT/bin:$PATH\"\\' >> ~/.bash_profile\\necho -e \\'if command -v pyenv 1>/dev/null 2>&1; then\\\\n  eval \"$(pyenv init -)\"\\\\nfi\\' >> ~/.bash_profile',\n",
       "  'pyenv install 3.6.5',\n",
       "  'git clone https://github.com/pyenv/pyenv.git ~/.pyenv\\necho \\'export PYENV_ROOT=\"$HOME/.pyenv\"\\' >> ~/.bash_profile\\necho \\'export PATH=\"$PYENV_ROOT/bin:$PATH\"\\' >> ~/.bash_profile\\necho -e \\'if command -v pyenv 1>/dev/null 2>&1; then\\\\n  eval \"$(pyenv init -)\"\\\\nfi\\' >> ~/.bash_profile',\n",
       "  '# comentário\\nprint(\\'\\'\\'comentário\\'\\'\\')\\nprint(\"\"\"comentário\"\"\")\\nprint(\"\"\"comentário\\n\"\"\")',\n",
       "  '# booleanos\\nspam = True\\neggs = False\\n\\nprint(eggs)',\n",
       "  \"# Nulos\\nham = None\\nprint(not None)\\nprint(not [])\\nprint(not 0)\\nprint(not '')\\nprint(not False)\",\n",
       "  '# Operações com números\\n2 + 3\\n5 / 3\\n5 // 3\\n5 * 2\\n5**2\\n5**2 == 5 * 5\\na, b = 1,2\\na, b = b, a\\nprint(a, b)',\n",
       "  '# strings\\nspam = \\'eggs\\'\\nspam = \"eggs\"\\nspam = \\'spam isn\\\\\\'t eggs\\'\\nspam = \"\"\"spam isn\\'t eggs\"\"\"\\nspam = \\'\\'\\'spam isn\\'t eggs\\'\\'\\'',\n",
       "  \"#números complexos\\na=5+3j + 1 -1j\\na.imag\\na.real\\na = complex(5,1)\\na.imag\\na.real\\ncomplex('1+2j')\",\n",
       "  \"complex('1+ 2j')\",\n",
       "  'import random\\n\\ndef get_spam(n):\\n    \"\"\"Returns a list of spam\\n    \\n    This function returns a list of spams because King Arthur\\n    thinks this is important.\\n    \\n    n: number of spam elements\\n    returns: list of Holy Grail items\\n    \"\"\"\\n    result = []\\n    for _ in range(n):\\n        result.append(random.choice([\\'spam\\', \\'eggs\\', \\'Ni!\\', \\'shrubbery\\', \\'Patsy\\']))\\n    return result',\n",
       "  \"spam = 'spam'\\n\\nprint(f'There is a lot of {spam} in this video: https://www.youtube.com/watch?v=anwy2MPT5RE')\",\n",
       "  \"spam = ','.join(['spam'] * 3)\\n\\nprint(f'There is a lot of {spam} in this video: https://www.youtube.com/watch?v=anwy2MPT5RE')\",\n",
       "  \"for arg in ['deputies_dataset.csv', 'non-existent-file']:\\n    try:\\n        f = open(arg, 'r')\\n    except OSError:\\n        print('cannot open', arg)\\n    else:\\n        print(arg, 'has', len(f.readlines()), 'lines')\\n        f.close()\",\n",
       "  \"for arg in ['deputies_dataset.csv', 'non-existent-file']:\\n    try:\\n        f = open(arg, 'r')\\n    except OSError:\\n        print('cannot open', arg)\\n    else:\\n        print(arg, 'has', len(f.readlines()), 'lines')\\n        f.close()\",\n",
       "  'def divide(x, y):\\n    try:\\n        result = x / y\\n    except ZeroDivisionError:\\n        print(\"division by zero!\")\\n    else:\\n        print(\"result is\", result)\\n    finally:\\n        print(\"executing finally clause\")',\n",
       "  'def divide(x, y):\\n    try:\\n        result = x / y\\n    except ZeroDivisionError:\\n        print(\"division by zero!\")\\n    else:\\n        print(\"result is\", result)\\n    finally:\\n        print(\"executing finally clause\")',\n",
       "  'divide(2, 1)',\n",
       "  'divide(2, 0)',\n",
       "  'divide(\"2\", \"1\")',\n",
       "  'def divide(x, y):\\n    try:\\n        result = x / y\\n    except ZeroDivisionError:\\n        print(\"division by zero!\")\\n    except TypeError:\\n        print(\\'Invalid input, please input numbers to divide function.\\')\\n    else:\\n        print(\"result is\", result)\\n    finally:\\n        print(\"executing finally clause\")',\n",
       "  'divide(\"2\", \"1\")',\n",
       "  \"def print_locals():\\n    spam = 'eggs'\\n    spams = ['eggs', 'ham', 'spam']\\n    print(locals())\",\n",
       "  'locals()',\n",
       "  'print_locals()',\n",
       "  'globals()'],\n",
       " 'Out': {14: ['eggs',\n",
       "   'spam',\n",
       "   'Patsy',\n",
       "   'Patsy',\n",
       "   'Patsy',\n",
       "   'eggs',\n",
       "   'shrubbery',\n",
       "   'spam',\n",
       "   'eggs',\n",
       "   'Patsy'],\n",
       "  23: (1+2j),\n",
       "  38: {...}},\n",
       " 'get_ipython': <bound method InteractiveShell.get_ipython of <ipykernel.zmqshell.ZMQInteractiveShell object at 0x7f9dbb23f828>>,\n",
       " 'exit': <IPython.core.autocall.ZMQExitAutocall at 0x7f9db27d15c0>,\n",
       " 'quit': <IPython.core.autocall.ZMQExitAutocall at 0x7f9db27d15c0>,\n",
       " '_': {...},\n",
       " '__': (1+2j),\n",
       " '___': ['eggs',\n",
       "  'spam',\n",
       "  'Patsy',\n",
       "  'Patsy',\n",
       "  'Patsy',\n",
       "  'eggs',\n",
       "  'shrubbery',\n",
       "  'spam',\n",
       "  'eggs',\n",
       "  'Patsy'],\n",
       " '_i': 'print_locals()',\n",
       " '_ii': 'locals()',\n",
       " '_iii': \"def print_locals():\\n    spam = 'eggs'\\n    spams = ['eggs', 'ham', 'spam']\\n    print(locals())\",\n",
       " '_i1': \"words = 'spam ham eggs'.split()\\n\\n# example 1\\nfor word in words:\\n    print(word, len(word))\\n\\n# example 2    \\nfor index, word in enumerate(words):\\n    print(index, word, len(word))\\n\\n# example 3    \\nfor x in range(10):\\n    print(x)\\n\\n# example 4\\nfor x in len(words):\\n    print(x)\\n\\n# example 5\\nfor x in words:\\n    if 'shrubbery' in x:\\n        print(x)\\nelse:\\n    print('For loop is done.')\",\n",
       " 'words': ['spam', 'ham', 'eggs'],\n",
       " 'word': 'eggs',\n",
       " 'index': 2,\n",
       " 'x': 'eggs',\n",
       " '_i2': \"words = 'spam ham eggs'.split()\\n\\n# example 1\\nfor word in words:\\n    print(word, len(word))\\n\\n# example 2    \\nfor index, word in enumerate(words):\\n    print(index, word, len(word))\\n\\n# example 3    \\nfor x in range(10):\\n    print(x)\\n\\n# example 4\\nfor x in len(words):\\n    print(x)\\n\\n# example 5\\nfor x in words:\\n    if 'shrubbery' in x:\\n        print(x)\\nelse:\\n    print('For loop is done.')\",\n",
       " '_i3': \"words = 'spam ham eggs'.split()\",\n",
       " '_i4': '# example 1\\nfor word in words:\\n    print(word, len(word))',\n",
       " '_i5': '# example 2    \\nfor index, word in enumerate(words):\\n    print(index, word, len(word))',\n",
       " '_i6': '# example 3    \\nfor x in range(10):\\n    print(x)',\n",
       " '_i7': '# example 4\\nfor x in len(words):\\n    print(x)',\n",
       " '_i8': \"# example 5\\nfor x in words:\\n    if 'shrubbery' in x:\\n        print(x)\\nelse:\\n    print('For loop is done.')\",\n",
       " '_i9': \"# example 5\\nprint(words)\\nfor x in words:\\n    if 'shrubbery' in x:\\n        print(x)\\nelse:\\n    print('For loop is done.')\",\n",
       " '_i10': \"# example 5\\nprint(words)\\nfor x in words:\\n    if 'spam' in x:\\n        print(x)\\nelse:\\n    print('For loop is done.')\",\n",
       " '_i11': \"# example 5\\nprint(words)\\nfor x in words:\\n    if 'shrubbery' in x:\\n        print(x)\\nelse:\\n    print('For loop is done.')\",\n",
       " '_i12': \"spams = ['spam', 'ham','eggs']\\nindex = 0\\nwhile True:\\n    if spams[index] == 'spam':\\n        index +=1\\n        continue\\n    elif spams[index] == 'eggs':\\n        break\\n    else:\\n        index +=1\\n        print(spams[index])\",\n",
       " 'spams': ['spam', 'ham', 'eggs'],\n",
       " '_i13': 'import random\\n\\ndef get_spam(n):\\n    \"\"\"Returns a list of spam\\n    n: number of spam elements\\n    returns: list of Holy Grail items\\n    \"\"\"\\n    result = []\\n    for _ in range(n):\\n        result.append(random.choice([\\'spam\\', \\'eggs\\', \\'Ni!\\', \\'shrubbery\\', \\'Patsy\\']))\\n    return result',\n",
       " 'random': <module 'random' from '/home/luizhonda/.pyenv/versions/3.6.5/lib/python3.6/random.py'>,\n",
       " 'get_spam': <function __main__.get_spam(n)>,\n",
       " '_i14': 'get_spam\\nprint(get_spam.__doc__)\\nget_spam(10)',\n",
       " '_14': ['eggs',\n",
       "  'spam',\n",
       "  'Patsy',\n",
       "  'Patsy',\n",
       "  'Patsy',\n",
       "  'eggs',\n",
       "  'shrubbery',\n",
       "  'spam',\n",
       "  'eggs',\n",
       "  'Patsy'],\n",
       " '_i15': 'git clone https://github.com/pyenv/pyenv.git ~/.pyenv\\necho \\'export PYENV_ROOT=\"$HOME/.pyenv\"\\' >> ~/.bash_profile\\necho \\'export PATH=\"$PYENV_ROOT/bin:$PATH\"\\' >> ~/.bash_profile\\necho -e \\'if command -v pyenv 1>/dev/null 2>&1; then\\\\n  eval \"$(pyenv init -)\"\\\\nfi\\' >> ~/.bash_profile',\n",
       " '_i16': 'pyenv install 3.6.5',\n",
       " '_i17': 'git clone https://github.com/pyenv/pyenv.git ~/.pyenv\\necho \\'export PYENV_ROOT=\"$HOME/.pyenv\"\\' >> ~/.bash_profile\\necho \\'export PATH=\"$PYENV_ROOT/bin:$PATH\"\\' >> ~/.bash_profile\\necho -e \\'if command -v pyenv 1>/dev/null 2>&1; then\\\\n  eval \"$(pyenv init -)\"\\\\nfi\\' >> ~/.bash_profile',\n",
       " '_i18': '# comentário\\nprint(\\'\\'\\'comentário\\'\\'\\')\\nprint(\"\"\"comentário\"\"\")\\nprint(\"\"\"comentário\\n\"\"\")',\n",
       " '_i19': '# booleanos\\nspam = True\\neggs = False\\n\\nprint(eggs)',\n",
       " 'spam': 'spam,spam,spam',\n",
       " 'eggs': False,\n",
       " '_i20': \"# Nulos\\nham = None\\nprint(not None)\\nprint(not [])\\nprint(not 0)\\nprint(not '')\\nprint(not False)\",\n",
       " 'ham': None,\n",
       " '_i21': '# Operações com números\\n2 + 3\\n5 / 3\\n5 // 3\\n5 * 2\\n5**2\\n5**2 == 5 * 5\\na, b = 1,2\\na, b = b, a\\nprint(a, b)',\n",
       " 'a': (5+1j),\n",
       " 'b': 1,\n",
       " '_i22': '# strings\\nspam = \\'eggs\\'\\nspam = \"eggs\"\\nspam = \\'spam isn\\\\\\'t eggs\\'\\nspam = \"\"\"spam isn\\'t eggs\"\"\"\\nspam = \\'\\'\\'spam isn\\'t eggs\\'\\'\\'',\n",
       " '_i23': \"#números complexos\\na=5+3j + 1 -1j\\na.imag\\na.real\\na = complex(5,1)\\na.imag\\na.real\\ncomplex('1+2j')\",\n",
       " '_23': (1+2j),\n",
       " '_i24': \"complex('1+ 2j')\",\n",
       " '_i25': 'import random\\n\\ndef get_spam(n):\\n    \"\"\"Returns a list of spam\\n    \\n    This function returns a list of spams because King Arthur\\n    thinks this is important.\\n    \\n    n: number of spam elements\\n    returns: list of Holy Grail items\\n    \"\"\"\\n    result = []\\n    for _ in range(n):\\n        result.append(random.choice([\\'spam\\', \\'eggs\\', \\'Ni!\\', \\'shrubbery\\', \\'Patsy\\']))\\n    return result',\n",
       " '_i26': \"spam = 'spam'\\n\\nprint(f'There is a lot of {spam} in this video: https://www.youtube.com/watch?v=anwy2MPT5RE')\",\n",
       " '_i27': \"spam = ','.join(['spam'] * 3)\\n\\nprint(f'There is a lot of {spam} in this video: https://www.youtube.com/watch?v=anwy2MPT5RE')\",\n",
       " '_i28': \"for arg in ['deputies_dataset.csv', 'non-existent-file']:\\n    try:\\n        f = open(arg, 'r')\\n    except OSError:\\n        print('cannot open', arg)\\n    else:\\n        print(arg, 'has', len(f.readlines()), 'lines')\\n        f.close()\",\n",
       " 'arg': 'non-existent-file',\n",
       " 'f': <_io.TextIOWrapper name='deputies_dataset.csv' mode='r' encoding='UTF-8'>,\n",
       " '_i29': \"for arg in ['deputies_dataset.csv', 'non-existent-file']:\\n    try:\\n        f = open(arg, 'r')\\n    except OSError:\\n        print('cannot open', arg)\\n    else:\\n        print(arg, 'has', len(f.readlines()), 'lines')\\n        f.close()\",\n",
       " '_i30': 'def divide(x, y):\\n    try:\\n        result = x / y\\n    except ZeroDivisionError:\\n        print(\"division by zero!\")\\n    else:\\n        print(\"result is\", result)\\n    finally:\\n        print(\"executing finally clause\")',\n",
       " 'divide': <function __main__.divide(x, y)>,\n",
       " '_i31': 'def divide(x, y):\\n    try:\\n        result = x / y\\n    except ZeroDivisionError:\\n        print(\"division by zero!\")\\n    else:\\n        print(\"result is\", result)\\n    finally:\\n        print(\"executing finally clause\")',\n",
       " '_i32': 'divide(2, 1)',\n",
       " '_i33': 'divide(2, 0)',\n",
       " '_i34': 'divide(\"2\", \"1\")',\n",
       " '_i35': 'def divide(x, y):\\n    try:\\n        result = x / y\\n    except ZeroDivisionError:\\n        print(\"division by zero!\")\\n    except TypeError:\\n        print(\\'Invalid input, please input numbers to divide function.\\')\\n    else:\\n        print(\"result is\", result)\\n    finally:\\n        print(\"executing finally clause\")',\n",
       " '_i36': 'divide(\"2\", \"1\")',\n",
       " '_i37': \"def print_locals():\\n    spam = 'eggs'\\n    spams = ['eggs', 'ham', 'spam']\\n    print(locals())\",\n",
       " 'print_locals': <function __main__.print_locals()>,\n",
       " '_i38': 'locals()',\n",
       " '_38': {...},\n",
       " '_i39': 'print_locals()',\n",
       " '_i40': 'globals()'}"
      ]
     },
     "execution_count": 40,
     "metadata": {},
     "output_type": "execute_result"
    }
   ],
   "source": [
    "globals()"
   ]
  },
  {
   "cell_type": "markdown",
   "metadata": {},
   "source": [
    "Scope example:"
   ]
  },
  {
   "cell_type": "code",
   "execution_count": null,
   "metadata": {},
   "outputs": [],
   "source": [
    "def scope_test():\n",
    "    def do_local():\n",
    "        spam = \"local spam\"\n",
    "\n",
    "    def do_nonlocal():\n",
    "        nonlocal spam\n",
    "        spam = \"nonlocal spam\"\n",
    "\n",
    "    def do_global():\n",
    "        global spam\n",
    "        spam = \"global spam\"\n",
    "\n",
    "    spam = \"test spam\"\n",
    "    do_local()\n",
    "    print(\"After local assignment:\", spam)\n",
    "    do_nonlocal()\n",
    "    print(\"After nonlocal assignment:\", spam)\n",
    "    do_global()\n",
    "    print(\"After global assignment:\", spam)\n",
    "\n",
    "scope_test()\n",
    "print(\"In global scope:\", spam)"
   ]
  },
  {
   "cell_type": "markdown",
   "metadata": {},
   "source": [
    "Class example:"
   ]
  },
  {
   "cell_type": "code",
   "execution_count": null,
   "metadata": {},
   "outputs": [],
   "source": [
    "import requests\n",
    "import webbrowser\n",
    "\n",
    "class HttpUtil():\n",
    "    \"\"\"This class is a httpbin.org client\n",
    "    \"\"\"\n",
    "    url = 'https://httpbin.org/'\n",
    "\n",
    "    now_url = 'https://now.httpbin.org/'\n",
    "\n",
    "    def _get_json(self, resource, url=HttpUtil.url):\n",
    "        return requests.get(url + resource).json()\n",
    "\n",
    "    def get_uuid(self):\n",
    "        return self._get_json('uuid')\n",
    "\n",
    "    def get_current_time(self):\n",
    "        return _get_json('', url=now_url)\n",
    "\n",
    "    def get_headers(self):\n",
    "        return self._get_json('headers')\n",
    "\n",
    "    def get_ip(self):\n",
    "        return self._get_json('ip')\n",
    "\n",
    "    def get_user_agent(self):\n",
    "        return self._get_json('user-agent')\n",
    "\n",
    "    def get_status_code(self, code):\n",
    "        return requests.get(HttpUtil.url + 'status/' + str(code)).status_code\n",
    "\n",
    "    def redirect_to(self, redirect_url='https://xkcd.com/353/', use_browser=False):\n",
    "        url = HttpUtil.url + 'redirect-to?url=' + redirect_url\n",
    "        if use_browser:\n",
    "            return webbrowser.open_new_tab(url)\n",
    "        return requests.get(url).content"
   ]
  },
  {
   "cell_type": "code",
   "execution_count": null,
   "metadata": {},
   "outputs": [],
   "source": [
    "http_client = HttpUtil()"
   ]
  },
  {
   "cell_type": "code",
   "execution_count": null,
   "metadata": {},
   "outputs": [],
   "source": [
    "type(HttpUtil.get_current_time), type(cliente.get_current_time)"
   ]
  },
  {
   "cell_type": "markdown",
   "metadata": {},
   "source": [
    "## class inheritance"
   ]
  },
  {
   "cell_type": "code",
   "execution_count": 44,
   "metadata": {},
   "outputs": [],
   "source": [
    "# example 1\n",
    "class Base1():\n",
    "    def __init__(self):\n",
    "        self.var1 = 'base1'\n",
    "\n",
    "    def itsme(self):\n",
    "        print('Base1')\n",
    "\n",
    "    def base1_only(self):\n",
    "        print('base1 only')\n",
    "\n",
    "\n",
    "class Base2():\n",
    "    def __init__(self):\n",
    "        self.var2 = 'base2'\n",
    "\n",
    "    def itsme(self):\n",
    "        print('Base2')\n",
    "\n",
    "    def base2_only(self):\n",
    "        print('base2 only')\n",
    "\n",
    "class MyClass(Base1 , Base2):\n",
    "    pass"
   ]
  },
  {
   "cell_type": "code",
   "execution_count": 43,
   "metadata": {},
   "outputs": [
    {
     "name": "stdout",
     "output_type": "stream",
     "text": [
      "Base1\n",
      "base1 only\n",
      "base2 only\n"
     ]
    }
   ],
   "source": [
    "c = MyClass()\n",
    "c.itsme()\n",
    "c.base1_only()\n",
    "c.base2_only()"
   ]
  },
  {
   "cell_type": "code",
   "execution_count": 48,
   "metadata": {},
   "outputs": [
    {
     "name": "stdout",
     "output_type": "stream",
     "text": [
      "spam\n",
      "eggs\n"
     ]
    }
   ],
   "source": [
    "# Example 2\n",
    "\n",
    "class A():\n",
    "    def __init__(self, spam):\n",
    "        self.spam = spam\n",
    "        \n",
    "class B(A):\n",
    "    def __init__(self, eggs, spam='spam'):\n",
    "        super().__init__(spam)\n",
    "        self.eggs = eggs\n",
    "\n",
    "b = B(eggs='eggs')\n",
    "print(b.spam)\n",
    "print(b.eggs)"
   ]
  },
  {
   "cell_type": "markdown",
   "metadata": {},
   "source": [
    "Diamond inheritance"
   ]
  },
  {
   "cell_type": "code",
   "execution_count": 45,
   "metadata": {},
   "outputs": [],
   "source": [
    "# Example 3 \n",
    "class A:\n",
    "    def itsme(self):\n",
    "        print(\"I'm A\")\n",
    "\n",
    "class B1(A):\n",
    "    def itsme(self):\n",
    "        print(\"I'm B1\")\n",
    "\n",
    "class B2(A):\n",
    "    def itsme(self):\n",
    "        print(\"I'm B2\")\n",
    "\n",
    "class C(B1,B2):\n",
    "    pass"
   ]
  },
  {
   "cell_type": "code",
   "execution_count": null,
   "metadata": {},
   "outputs": [],
   "source": [
    "c = C()\n",
    "c.itsme()\n",
    "print(C.mro())\n",
    "print(help(C))"
   ]
  },
  {
   "cell_type": "markdown",
   "metadata": {},
   "source": [
    "super should be called \"the next in line\"\n",
    "\n",
    "super calls your children parents\n",
    "\n",
    "solution:MRO uses linealization\n",
    "\n",
    "use help(your_class)"
   ]
  },
  {
   "cell_type": "markdown",
   "metadata": {},
   "source": [
    "Is Python compiled?\n",
    "\n",
    "`__pycache__`\n",
    "\n",
    "pyc file -> byte code\n"
   ]
  },
  {
   "cell_type": "markdown",
   "metadata": {},
   "source": [
    "### Private methods:\n",
    "\n",
    "Python does not block you from accessing a class attributes.\n",
    "\n",
    "To define a private method we use one `_` character in the beginning of the function, by convention.\n",
    "\n"
   ]
  },
  {
   "cell_type": "code",
   "execution_count": 49,
   "metadata": {},
   "outputs": [],
   "source": [
    "class Spam:\n",
    "    def _generate_spam(self, n):\n",
    "        return ','.join(['Spam' for _ in range(n)])\n",
    "\n",
    "    def __private_method(self):\n",
    "        print(\"I'm  a private method\")\n",
    "\n",
    "    def __private_method2_(self):\n",
    "        print(\"I'm  a private method2\")"
   ]
  },
  {
   "cell_type": "code",
   "execution_count": 50,
   "metadata": {},
   "outputs": [
    {
     "data": {
      "text/plain": [
       "'Spam,Spam,Spam,Spam,Spam'"
      ]
     },
     "execution_count": 50,
     "metadata": {},
     "output_type": "execute_result"
    }
   ],
   "source": [
    "s = Spam()\n",
    "s._generate_spam(5)"
   ]
  },
  {
   "cell_type": "code",
   "execution_count": 51,
   "metadata": {},
   "outputs": [
    {
     "ename": "AttributeError",
     "evalue": "'Spam' object has no attribute '__private_method'",
     "output_type": "error",
     "traceback": [
      "\u001b[0;31m---------------------------------------------------------------------------\u001b[0m",
      "\u001b[0;31mAttributeError\u001b[0m                            Traceback (most recent call last)",
      "\u001b[0;32m<ipython-input-51-09d7bf400a54>\u001b[0m in \u001b[0;36m<module>\u001b[0;34m()\u001b[0m\n\u001b[0;32m----> 1\u001b[0;31m \u001b[0ms\u001b[0m\u001b[0;34m.\u001b[0m\u001b[0m__private_method\u001b[0m\u001b[0;34m(\u001b[0m\u001b[0;34m)\u001b[0m\u001b[0;34m\u001b[0m\u001b[0m\n\u001b[0m",
      "\u001b[0;31mAttributeError\u001b[0m: 'Spam' object has no attribute '__private_method'"
     ]
    }
   ],
   "source": [
    "s.__private_method()"
   ]
  },
  {
   "cell_type": "markdown",
   "metadata": {},
   "source": [
    "Aparently you cannot call a *dunder* method according to the example above, right? Actually we have access to it using a feture called *name mangling*:"
   ]
  },
  {
   "cell_type": "code",
   "execution_count": 52,
   "metadata": {},
   "outputs": [
    {
     "data": {
      "text/plain": [
       "['_Spam__private_method',\n",
       " '_Spam__private_method2_',\n",
       " '__class__',\n",
       " '__delattr__',\n",
       " '__dict__',\n",
       " '__dir__',\n",
       " '__doc__',\n",
       " '__eq__',\n",
       " '__format__',\n",
       " '__ge__',\n",
       " '__getattribute__',\n",
       " '__gt__',\n",
       " '__hash__',\n",
       " '__init__',\n",
       " '__init_subclass__',\n",
       " '__le__',\n",
       " '__lt__',\n",
       " '__module__',\n",
       " '__ne__',\n",
       " '__new__',\n",
       " '__reduce__',\n",
       " '__reduce_ex__',\n",
       " '__repr__',\n",
       " '__setattr__',\n",
       " '__sizeof__',\n",
       " '__str__',\n",
       " '__subclasshook__',\n",
       " '__weakref__',\n",
       " '_generate_spam']"
      ]
     },
     "execution_count": 52,
     "metadata": {},
     "output_type": "execute_result"
    }
   ],
   "source": [
    "dir(s)\n"
   ]
  },
  {
   "cell_type": "code",
   "execution_count": 53,
   "metadata": {},
   "outputs": [
    {
     "name": "stdout",
     "output_type": "stream",
     "text": [
      "I'm  a private method\n"
     ]
    }
   ],
   "source": [
    "s._Spam__private_method()"
   ]
  },
  {
   "cell_type": "code",
   "execution_count": 54,
   "metadata": {},
   "outputs": [
    {
     "name": "stdout",
     "output_type": "stream",
     "text": [
      "I'm  a private method2\n"
     ]
    }
   ],
   "source": [
    "s._Spam__private_method2_()"
   ]
  },
  {
   "cell_type": "markdown",
   "metadata": {},
   "source": [
    "## Are we done!?\n",
    "\n",
    "Yes, we finished Python hands-on.\n",
    "\n",
    "In order to master Python programming, you might want to start practicing a lot. \n",
    "\n",
    "Some hints:\n",
    "\n",
    "- Use a good editor which provides a good Python support; I recommend Pycharm as it has tools which helps with debugging, formatting and it has lots of keyboard shortcuts so you don't waste time using a mouse. Productivity is directly proportional to your tools usage/knowledge.\n",
    "\n",
    "- Use virtualenvwrapper to avoid conflicts with your OS Python and virtualenv provides you a way to test your project with several versions of your dependencies.\n",
    "\n",
    "- Websites like [HackerRank](https://www.hackerrank.com/),[Codewars](https://codewars.com) e [PyBytes](https://codechalleng.es/) offer free coding challenges.\n",
    "\n",
    "Happy coding!\n",
    "\n",
    "Luiz T. Honda\n"
   ]
  },
  {
   "cell_type": "code",
   "execution_count": null,
   "metadata": {},
   "outputs": [],
   "source": []
  }
 ],
 "metadata": {
  "kernelspec": {
   "display_name": "Python 3",
   "language": "python",
   "name": "python3"
  },
  "language_info": {
   "codemirror_mode": {
    "name": "ipython",
    "version": 3
   },
   "file_extension": ".py",
   "mimetype": "text/x-python",
   "name": "python",
   "nbconvert_exporter": "python",
   "pygments_lexer": "ipython3",
   "version": "3.6.5"
  }
 },
 "nbformat": 4,
 "nbformat_minor": 2
}
